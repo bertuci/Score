# ==============================================================================
# ENTERPRISE CREDIT SCORING SYSTEM v11.0 - ULTRA COMPLETO
# ==============================================================================
# Características:
# - Balanceamento inteligente (SMOTE, ADASYN, class weights)
# - Feature selection automática (RFE, Boruta, correlation)
# - Ensemble stacking avançado (XGBoost + LightGBM + CatBoost)
# - Calibração multi-método (Isotonic, Platt, Beta)
# - Monitoramento de drift completo (PSI, KS, ChiSquare, KL-divergence)
# - Explicabilidade total (SHAP, feature importance, partial dependence)
# - Validação cross-temporal
# - Otimização multi-objetivo (AUC, KS, Business Value)
# ==============================================================================

import pandas as pd
import numpy as np
import matplotlib.pyplot as plt
import seaborn as sns
import warnings
import joblib
import json
import hashlib
import sys
from pathlib import Path
from datetime import datetime, timedelta
from typing import Dict, List, Tuple, Optional, Any, Union
from dataclasses import dataclass, field, asdict
from enum import Enum
from collections import defaultdict
import pickle

# Core ML
import xgboost as xgb
import lightgbm as lgb
try:
    import catboost as cb
    CATBOOST_AVAILABLE = True
except ImportError:
    CATBOOST_AVAILABLE = False
    warnings.warn("CatBoost não instalado. Ensemble limitado.")

# Balanceamento
from imblearn.over_sampling import SMOTE, ADASYN, BorderlineSMOTE
from imblearn.under_sampling import RandomUnderSampler, TomekLinks
from imblearn.combine import SMOTETomek, SMOTEENN
from imblearn.ensemble import BalancedRandomForestClassifier

# Feature Selection
from sklearn.feature_selection import (
    RFE, SelectKBest, f_classif, mutual_info_classif,
    VarianceThreshold, SelectFromModel
)

# Preprocessing
from sklearn.model_selection import (
    StratifiedKFold, train_test_split, cross_val_score,
    TimeSeriesSplit
)
from sklearn.preprocessing import (
    StandardScaler, RobustScaler, MinMaxScaler,
    PowerTransformer, QuantileTransformer, FunctionTransformer
)

# Habilita o IterativeImputer experimental
from sklearn.experimental import enable_iterative_imputer
# Agora o import funciona
from sklearn.impute import SimpleImputer, KNNImputer, IterativeImputer

from sklearn.pipeline import Pipeline
from sklearn.compose import ColumnTransformer
from sklearn.preprocessing import OneHotEncoder, LabelEncoder

# Ensemble
from sklearn.ensemble import (
    StackingClassifier, VotingClassifier,
    RandomForestClassifier, GradientBoostingClassifier
)

# Calibração
from sklearn.calibration import CalibratedClassifierCV, calibration_curve
from sklearn.isotonic import IsotonicRegression

# Métricas
from sklearn.metrics import (
    roc_auc_score, roc_curve, precision_recall_curve,
    confusion_matrix, classification_report,
    brier_score_loss, log_loss, average_precision_score,
    precision_score, recall_score, f1_score,
    matthews_corrcoef, cohen_kappa_score
)

# Otimização
import optuna
from scipy.stats import ks_2samp, chi2_contingency, entropy
from scipy.spatial.distance import jensenshannon

# Explicabilidade
try:
    import shap
    SHAP_AVAILABLE = True
except ImportError:
    SHAP_AVAILABLE = False
    warnings.warn("SHAP não instalado. Explicabilidade limitada.")

# Encoding robusto
from category_encoders import (
    TargetEncoder, WOEEncoder, CatBoostEncoder,
    LeaveOneOutEncoder
)

# Logging
import logging
logging.basicConfig(
    level=logging.INFO,
    format='%(asctime)s | %(levelname)s | %(message)s',
    datefmt='%Y-%m-%d %H:%M:%S',
    handlers=[
        logging.FileHandler('credit_scoring_ultra.log'),
        logging.StreamHandler(sys.stdout)
    ]
)
logger = logging.getLogger(__name__)
warnings.filterwarnings('ignore')
optuna.logging.set_verbosity(optuna.logging.WARNING)

# ==============================================================================
# 1. CONSTANTES E ENUMS
# ==============================================================================

class ModelType(Enum):
    XGBOOST = "xgboost"
    LIGHTGBM = "lightgbm"
    CATBOOST = "catboost"
    ENSEMBLE_VOTING = "ensemble_voting"
    ENSEMBLE_STACKING = "ensemble_stacking"

class BalancingMethod(Enum):
    NONE = "none"
    CLASS_WEIGHT = "class_weight"
    RANDOM_OVERSAMPLE = "random_oversample"
    RANDOM_UNDERSAMPLE = "random_undersample"
    SMOTE = "smote"
    ADASYN = "adasyn"
    BORDERLINE_SMOTE = "borderline_smote"
    SMOTE_TOMEK = "smote_tomek"
    SMOTE_ENN = "smote_enn"

class FeatureSelectionMethod(Enum):
    NONE = "none"
    VARIANCE_THRESHOLD = "variance_threshold"
    CORRELATION = "correlation"
    MUTUAL_INFO = "mutual_info"
    RFE = "rfe"
    BORUTA = "boruta"
    SHAP = "shap"
    COMBINED = "combined"

BUSINESS_CONSTANTS = {
    'min_age': 18,
    'max_age': 85,
    'excel_date_base': pd.Timestamp('1899-12-30'),
}

FORBIDDEN_FEATURES = [
    'inadimplente', 'default',
    'quantidade_parcelas_vencidas', 'taxa_parcelas_vencidas',
    'saldo_vencido', 'dias_em_atraso', 'primeiro_vencimento_em_atraso',
    'data_quitacao', 'pagamento_efetuado', 'valor_pago',
    'parcelas_pagas', 'quitado', 'recebido'
]

# ==============================================================================
# 2. CONFIGURAÇÃO ULTRA-COMPLETA
# ==============================================================================

@dataclass
class BusinessMetrics:
    """Métricas de negócio."""
    revenue_per_good_client: float = 1000.0
    loss_per_bad_client: float = 5000.0
    operational_cost_per_analysis: float = 50.0
    max_approval_rate: float = 0.70
    target_bad_rate: float = 0.05
    discount_rate: float = 0.10

@dataclass
class ModelThresholds:
    """Thresholds para alertas."""
    min_auc_acceptable: float = 0.70
    min_ks_acceptable: float = 0.30
    max_psi_warning: float = 0.10
    max_psi_critical: float = 0.25
    max_feature_missing_rate: float = 0.30
    max_class_imbalance_ratio: float = 100.0

@dataclass
class MLConfig:
    """Configuração ML ultra-completa."""
    
    # Dados
    data_path: str = 'Base estatistica 140712.xlsx'
    sheet_name: str = 'cobranca-d-30'
    target_variable: str = 'status_financeiro'
    date_column: str = 'data_efetivacao'
    
    # Split
    test_size: float = 0.20
    validation_size: float = 0.15
    use_temporal_split: bool = False
    
    # Balanceamento
    balancing_method: BalancingMethod = BalancingMethod.SMOTE
    sampling_strategy: float = 0.3  # Ratio desejado minority/majority
    
    # Feature Engineering
    create_advanced_features: bool = True
    create_polynomial_features: bool = True
    max_polynomial_degree: int = 2
    create_interaction_features: bool = True
    
    # Feature Selection
    feature_selection_method: FeatureSelectionMethod = FeatureSelectionMethod.COMBINED
    n_features_to_select: Optional[int] = None  # None = automático
    correlation_threshold: float = 0.95
    variance_threshold: float = 0.01
    
    # Encoding
    use_target_encoding: bool = True
    use_woe_encoding: bool = False
    
    # Otimização
    n_trials_optuna: int = 100
    optimize_hyperparams: bool = True
    use_multi_objective: bool = True  # Otimiza AUC + KS + Business Value
    
    # Modelo
    model_type: ModelType = ModelType.ENSEMBLE_STACKING
    enable_early_stopping: bool = True
    early_stopping_rounds: int = 50
    
    # Calibração
    calibrate_probabilities: bool = True
    calibration_method: str = 'isotonic'  # 'isotonic', 'sigmoid', 'beta'
    calibration_cv: int = 5
    
    # Validação
    use_cross_validation: bool = True
    n_folds_cv: int = 5
    
    # Explicabilidade
    compute_shap_values: bool = True
    compute_feature_importance: bool = True
    generate_pdp_plots: bool = False  # Slow
    
    # Monitoramento
    enable_drift_detection: bool = True
    psi_bins: int = 10
    
    # Output
    output_dir: Path = field(default_factory=lambda: Path('./models_ultra'))
    model_version: str = '11.0.0'
    save_intermediate_results: bool = True
    
    # Performance
    n_jobs: int = -1
    random_state: int = 42
    verbose: int = 1
    
    def __post_init__(self):
        self.output_dir.mkdir(parents=True, exist_ok=True)

@dataclass
class EnterpriseConfig:
    """Configuração enterprise completa."""
    ml_config: MLConfig = field(default_factory=MLConfig)
    business_metrics: BusinessMetrics = field(default_factory=BusinessMetrics)
    thresholds: ModelThresholds = field(default_factory=ModelThresholds)

# ==============================================================================
# 3. FEATURE ENGINEERING ULTRA-AVANÇADO
# ==============================================================================

class SmartDateParser:
    """Parser robusto de datas."""
    
    @staticmethod
    def parse_date(value: Any) -> pd.Timestamp:
        if isinstance(value, pd.Timestamp):
            return value
        
        try:
            date = pd.to_datetime(value, errors='coerce')
            if pd.notna(date):
                return date
        except:
            pass
        
        if isinstance(value, (int, float)) and not np.isnan(value):
            try:
                if 1 <= value <= 2958465:
                    date = BUSINESS_CONSTANTS['excel_date_base'] + pd.Timedelta(days=value)
                    if value >= 60:
                        date = date - pd.Timedelta(days=1)
                    return date
            except:
                pass
        
        return pd.NaT
    
    @staticmethod
    def calculate_age(birth_date: pd.Timestamp) -> float:
        if pd.isna(birth_date):
            return np.nan
        age = (datetime.now() - birth_date).days / 365.25
        if age < 0 or age > 120:
            return np.nan
        return age

class UltraAdvancedFeatureEngineer:
    """Feature Engineering com todas as técnicas avançadas."""
    
    def __init__(self, config: MLConfig):
        self.config = config
        self.created_features_ = []
        self.feature_stats_ = {}
    
    def fit(self, X: pd.DataFrame, y: pd.Series = None):
        """Aprende estatísticas das features."""
        logger.info("Aprendendo estatísticas para feature engineering...")
        
        # Estatísticas numéricas
        numeric_cols = X.select_dtypes(include=[np.number]).columns
        for col in numeric_cols:
            self.feature_stats_[col] = {
                'mean': X[col].mean(),
                'median': X[col].median(),
                'std': X[col].std(),
                'q1': X[col].quantile(0.25),
                'q3': X[col].quantile(0.75),
                'min': X[col].min(),
                'max': X[col].max()
            }
        
        # Se target disponível, calcula WOE para categóricas
        #if y is not None:
            #self._calculate_woe_encodings(X, y)
        
        return self
    
    def transform(self, X: pd.DataFrame) -> pd.DataFrame:
        """Aplica todas as transformações."""
        logger.info("="*70)
        logger.info("FEATURE ENGINEERING ULTRA-AVANÇADO")
        logger.info("="*70)
        
        X_eng = X.copy()
        
        # 1. Processamento de Datas
        logger.info("→ Processando datas...")
        X_eng = self._process_dates(X_eng)
        
        # 2. Features Numéricas Básicas
        logger.info("→ Criando features numéricas...")
        X_eng = self._create_numeric_features(X_eng)
        
        # 3. Features de Razão e Proporção
        logger.info("→ Criando features de razão...")
        X_eng = self._create_ratio_features(X_eng)
        
        # 4. Features Comportamentais
        logger.info("→ Criando features comportamentais...")
        X_eng = self._create_behavioral_features(X_eng)
        
        # 5. Features de Agregação
        logger.info("→ Criando features de agregação...")
        X_eng = self._create_aggregation_features(X_eng)
        
        # 6. Features de Interação
        if self.config.create_interaction_features:
            logger.info("→ Criando features de interação...")
            X_eng = self._create_interaction_features(X_eng)
        
        # 7. Features Polinomiais
        if self.config.create_polynomial_features:
            logger.info("→ Criando features polinomiais...")
            X_eng = self._create_polynomial_features(X_eng)
        
        # 8. Features de Binning
        logger.info("→ Criando features de binning...")
        X_eng = self._create_binned_features(X_eng)
        
        # 9. Features de Frequência
        logger.info("→ Criando features de frequência...")
        X_eng = self._create_frequency_features(X_eng)
        
        # 10. Features de Outlier Detection
        logger.info("→ Criando features de outlier...")
        X_eng = self._create_outlier_features(X_eng)
        
        # Limpeza final
        X_eng = X_eng.replace([np.inf, -np.inf], np.nan)
        
        logger.info(f"✅ Feature engineering completo!")
        logger.info(f"    Features originais: {X.shape[1]}")
        logger.info(f"    Features criadas: {len(self.created_features_)}")
        logger.info(f"    Total de features: {X_eng.shape[1]}")
        logger.info("="*70 + "\n")
        
        return X_eng
    
    def fit_transform(self, X: pd.DataFrame, y: pd.Series = None) -> pd.DataFrame:
        """Fit e transform."""
        return self.fit(X, y).transform(X)
    
    def _process_dates(self, X: pd.DataFrame) -> pd.DataFrame:
        """Processa datas."""
        # Nascimento
        if 'nascimento' in X.columns:
            birth_dates = X['nascimento'].apply(SmartDateParser.parse_date)
            X['idade'] = birth_dates.apply(SmartDateParser.calculate_age)
            
            # Faixas etárias
            X['idade_faixa'] = pd.cut(
                X['idade'],
                bins=[0, 25, 35, 45, 55, 65, 100],
                labels=['18-25', '26-35', '36-45', '46-55', '56-65', '65+']
            ).astype(str)
            
            # Gerações
            X['geracao'] = pd.cut(
                X['idade'],
                bins=[0, 28, 44, 60, 100],
                labels=['gen_z', 'millennial', 'gen_x', 'boomer']
            ).astype(str)
            
            X = X.drop(columns=['nascimento'])
            self.created_features_.extend(['idade', 'idade_faixa', 'geracao'])
        
        # Data de efetivação
        if 'data_efetivacao' in X.columns:
            X['data_efetivacao'] = pd.to_datetime(X['data_efetivacao'], errors='coerce')
            
            X['ano'] = X['data_efetivacao'].dt.year
            X['mes'] = X['data_efetivacao'].dt.month
            X['trimestre'] = X['data_efetivacao'].dt.quarter
            X['dia_mes'] = X['data_efetivacao'].dt.day
            X['dia_semana'] = X['data_efetivacao'].dt.dayofweek
            X['semana_ano'] = X['data_efetivacao'].dt.isocalendar().week
            
            # Features cíclicas (sin/cos para sazonalidade)
            X['mes_sin'] = np.sin(2 * np.pi * X['mes'] / 12)
            X['mes_cos'] = np.cos(2 * np.pi * X['mes'] / 12)
            X['dia_semana_sin'] = np.sin(2 * np.pi * X['dia_semana'] / 7)
            X['dia_semana_cos'] = np.cos(2 * np.pi * X['dia_semana'] / 7)
            
            # Flags temporais
            X['eh_inicio_mes'] = (X['dia_mes'] <= 5).astype(int)
            X['eh_meio_mes'] = ((X['dia_mes'] > 10) & (X['dia_mes'] <= 20)).astype(int)
            X['eh_fim_mes'] = (X['dia_mes'] >= 25).astype(int)
            X['eh_final_semana'] = (X['dia_semana'] >= 5).astype(int)
            X['eh_segunda'] = (X['dia_semana'] == 0).astype(int)
            
            X = X.drop(columns=['data_efetivacao'])
            
            self.created_features_.extend([
                'ano', 'mes', 'trimestre', 'dia_mes', 'dia_semana', 'semana_ano',
                'mes_sin', 'mes_cos', 'dia_semana_sin', 'dia_semana_cos',
                'eh_inicio_mes', 'eh_meio_mes', 'eh_fim_mes', 'eh_final_semana', 'eh_segunda'
            ])
        
        return X
    
    def _create_numeric_features(self, X: pd.DataFrame) -> pd.DataFrame:
        """Features numéricas básicas."""
        numeric_cols = X.select_dtypes(include=[np.number]).columns
        
        # Log transform para features skewed
        for col in ['total_financiado', 'renda_declarada', 'entrada']:
            if col in X.columns:
                X[f'{col}_log'] = np.log1p(X[col])
                self.created_features_.append(f'{col}_log')
        
        # Sqrt transform
        for col in ['quantidade_parcelas']:
            if col in X.columns:
                X[f'{col}_sqrt'] = np.sqrt(X[col])
                self.created_features_.append(f'{col}_sqrt')
        
        return X
    
    def _create_ratio_features(self, X: pd.DataFrame) -> pd.DataFrame:
        """Features de razão."""
        epsilon = 1e-6
        
        # Valor médio da parcela
        if 'total_financiado' in X.columns and 'quantidade_parcelas' in X.columns:
            X['valor_medio_parcela'] = X['total_financiado'] / (X['quantidade_parcelas'] + epsilon)
            X['valor_parcela_normalizado'] = X['valor_medio_parcela'] / (X['total_financiado'] + epsilon)
            self.created_features_.extend(['valor_medio_parcela', 'valor_parcela_normalizado'])
        
        # Comprometimento de renda
        if 'total_financiado' in X.columns and 'renda_declarada' in X.columns:
            X['razao_emprestimo_renda'] = X['total_financiado'] / (X['renda_declarada'] + epsilon)
            X['meses_renda_emprestimo'] = X['razao_emprestimo_renda'] / 12
            
            if 'valor_medio_parcela' in X.columns:
                X['comprometimento_mensal'] = X['valor_medio_parcela'] / (X['renda_declarada'] + epsilon)
                X['comprometimento_anual'] = X['comprometimento_mensal'] * 12
                self.created_features_.extend(['comprometimento_mensal', 'comprometimento_anual'])
            
            self.created_features_.extend(['razao_emprestimo_renda', 'meses_renda_emprestimo'])
        
        # Proporção de entrada
        if 'entrada' in X.columns and 'total_financiado' in X.columns:
            X['proporcao_entrada'] = X['entrada'] / (X['total_financiado'] + epsilon)
            X['valor_financiado_liquido'] = X['total_financiado'] - X['entrada']
            self.created_features_.extend(['proporcao_entrada', 'valor_financiado_liquido'])
        
        # Renda per capita (se houver info de dependentes)
        if 'renda_declarada' in X.columns and 'numero_dependentes' in X.columns:
            X['renda_per_capita'] = X['renda_declarada'] / (X['numero_dependentes'] + 1 + epsilon)
            self.created_features_.append('renda_per_capita')
        
        return X
    
    def _create_behavioral_features(self, X: pd.DataFrame) -> pd.DataFrame:
        """Features comportamentais."""
        
        # Cliente novo
        if 'quantidade_parcelas' in X.columns:
            X['eh_cliente_novo'] = (X['quantidade_parcelas'] <= 2).astype(int)
            X['eh_cliente_recorrente'] = (X['quantidade_parcelas'] > 5).astype(int)
            self.created_features_.extend(['eh_cliente_novo', 'eh_cliente_recorrente'])
        
        # Prazo
        if 'quantidade_parcelas' in X.columns:
            X['prazo_curto'] = (X['quantidade_parcelas'] <= 12).astype(int)
            X['prazo_medio'] = ((X['quantidade_parcelas'] > 12) & (X['quantidade_parcelas'] <= 36)).astype(int)
            X['prazo_longo'] = (X['quantidade_parcelas'] > 36).astype(int)
            self.created_features_.extend(['prazo_curto', 'prazo_medio', 'prazo_longo'])
        
        # Perfil de risco
        if 'comprometimento_mensal' in X.columns:
            X['comprometimento_baixo'] = (X['comprometimento_mensal'] <= 0.2).astype(int)
            X['comprometimento_moderado'] = ((X['comprometimento_mensal'] > 0.2) & (X['comprometimento_mensal'] <= 0.4)).astype(int)
            X['comprometimento_alto'] = (X['comprometimento_mensal'] > 0.4).astype(int)
            self.created_features_.extend(['comprometimento_baixo', 'comprometimento_moderado', 'comprometimento_alto'])
        
        # Idade + Valor (perfil de risco combinado)
        if 'idade' in X.columns and 'total_financiado' in X.columns:
            X['jovem_valor_alto'] = ((X['idade'] < 30) & (X['total_financiado'] > X['total_financiado'].quantile(0.75))).astype(int)
            X['senior_valor_baixo'] = ((X['idade'] > 60) & (X['total_financiado'] < X['total_financiado'].quantile(0.25))).astype(int)
            self.created_features_.extend(['jovem_valor_alto', 'senior_valor_baixo'])
        
        return X
    
    def _create_aggregation_features(self, X: pd.DataFrame) -> pd.DataFrame:
        """Features de agregação por grupos."""
        
        # Por profissão
        if 'profissao' in X.columns:
            for col in ['renda_declarada', 'total_financiado']:
                if col in X.columns:
                    group_mean = X.groupby('profissao')[col].transform('mean')
                    group_std = X.groupby('profissao')[col].transform('std')
                    
                    X[f'{col}_vs_media_profissao'] = X[col] / (group_mean + 1e-6)
                    X[f'{col}_zscore_profissao'] = (X[col] - group_mean) / (group_std + 1e-6)
                    
                    self.created_features_.extend([
                        f'{col}_vs_media_profissao',
                        f'{col}_zscore_profissao'
                    ])
        
        # Por cidade
        if 'endereco_cidade' in X.columns:
            for col in ['total_financiado', 'quantidade_parcelas']:
                if col in X.columns:
                    group_mean = X.groupby('endereco_cidade')[col].transform('mean')
                    X[f'{col}_vs_media_cidade'] = X[col] / (group_mean + 1e-6)
                    self.created_features_.append(f'{col}_vs_media_cidade')
        
        return X
    
    def _create_interaction_features(self, X: pd.DataFrame) -> pd.DataFrame:
        """Features de interação."""
        
        interactions = [
            ('idade', 'total_financiado'),
            ('idade', 'quantidade_parcelas'),
            ('renda_declarada', 'total_financiado'),
            ('quantidade_parcelas', 'valor_medio_parcela'),
        ]
        
        for col1, col2 in interactions:
            if col1 in X.columns and col2 in X.columns:
                X[f'{col1}_x_{col2}'] = X[col1] * X[col2]
                X[f'{col1}_div_{col2}'] = X[col1] / (X[col2] + 1e-6)
                self.created_features_.extend([
                    f'{col1}_x_{col2}',
                    f'{col1}_div_{col2}'
                ])
        
        return X
    
    def _create_polynomial_features(self, X: pd.DataFrame) -> pd.DataFrame:
        """Features polinomiais seletivas."""
        
        poly_candidates = ['idade', 'total_financiado', 'renda_declarada', 'quantidade_parcelas']
        
        for col in poly_candidates:
            if col in X.columns and X[col].dtype in [np.float64, np.int64]:
                X[f'{col}_squared'] = X[col] ** 2
                X[f'{col}_cubed'] = X[col] ** 3
                X[f'{col}_sqrt'] = np.sqrt(np.abs(X[col]))
                X[f'{col}_cbrt'] = np.cbrt(X[col])
                
                self.created_features_.extend([
                    f'{col}_squared',
                    f'{col}_cubed',
                    f'{col}_sqrt',
                    f'{col}_cbrt'
                ])
        
        return X
    
    def _create_binned_features(self, X: pd.DataFrame) -> pd.DataFrame:
        """Features de binning (discretização)."""
        
        bin_configs = {
            'idade': [0, 25, 35, 45, 55, 65, 100],
            'renda_declarada': [0, 2000, 4000, 6000, 10000, np.inf],
            'total_financiado': [0, 5000, 10000, 20000, 50000, np.inf],
            'quantidade_parcelas': [0, 12, 24, 36, 48, np.inf]
        }
        
        for col, bins in bin_configs.items():
            if col in X.columns:
                X[f'{col}_bin'] = pd.cut(X[col], bins=bins, labels=False, duplicates='drop')
                self.created_features_.append(f'{col}_bin')
        
        return X
    
    def _create_frequency_features(self, X: pd.DataFrame) -> pd.DataFrame:
        """Features de frequência (encoding)."""
        
        categorical_cols = X.select_dtypes(include=['object', 'category']).columns
        
        for col in categorical_cols:
            if col in X.columns:
                freq_map = X[col].value_counts(normalize=True).to_dict()
                X[f'{col}_frequency'] = X[col].map(freq_map).fillna(0)
                
                # Count encoding
                count_map = X[col].value_counts().to_dict()
                X[f'{col}_count'] = X[col].map(count_map).fillna(0)
                
                self.created_features_.extend([
                    f'{col}_frequency',
                    f'{col}_count'
                ])
        
        return X
    
    def _create_outlier_features(self, X: pd.DataFrame) -> pd.DataFrame:
        """Features indicando outliers."""
        
        numeric_cols = ['idade', 'renda_declarada', 'total_financiado', 'quantidade_parcelas']
        
        for col in numeric_cols:
            if col in X.columns:
                Q1 = X[col].quantile(0.25)
                Q3 = X[col].quantile(0.75)
                IQR = Q3 - Q1
                
                lower_bound = Q1 - 1.5 * IQR
                upper_bound = Q3 + 1.5 * IQR
                
                X[f'{col}_is_outlier'] = ((X[col] < lower_bound) | (X[col] > upper_bound)).astype(int)
                X[f'{col}_outlier_distance'] = np.where(
                    X[col] < lower_bound,
                    lower_bound - X[col],
                    np.where(X[col] > upper_bound, X[col] - upper_bound, 0)
                )
                
                self.created_features_.extend([
                    f'{col}_is_outlier',
                    f'{col}_outlier_distance'
                ])
        
        return X
    
    def _calculate_woe_encodings(self, X: pd.DataFrame, y: pd.Series):
        """Calcula Weight of Evidence para variáveis categóricas."""
        self.woe_encodings_ = {}
        
        categorical_cols = X.select_dtypes(include=['object', 'category']).columns
        
        for col in categorical_cols:
            if col in X.columns:
                woe_dict = {}
                
                for category in X[col].unique():
                    mask = X[col] == category
                    
                    n_good = (y[mask] == 0).sum()
                    n_bad = (y[mask] == 1).sum()
                    
                    total_good = (y == 0).sum()
                    total_bad = (y == 1).sum()
                    
                    # WOE = ln(% bons / % maus)
                    good_rate = (n_good / total_good) if total_good > 0 else 0.5
                    bad_rate = (n_bad / total_bad) if total_bad > 0 else 0.5
                    
                    # Smoothing
                    good_rate = max(good_rate, 0.0001)
                    bad_rate = max(bad_rate, 0.0001)
                    
                    woe = np.log(good_rate / bad_rate)
                    woe_dict[category] = woe
                
                self.woe_encodings_[col] = woe_dict

# ==============================================================================
# 4. BALANCEAMENTO INTELIGENTE
# ==============================================================================

class IntelligentBalancer:
    """Balanceamento inteligente com múltiplas estratégias."""
    
    def __init__(self, method: BalancingMethod, sampling_strategy: float = 0.3, random_state: int = 42):
        self.method = method
        self.sampling_strategy = sampling_strategy
        self.random_state = random_state
        self.sampler = None
    
    def fit_resample(self, X: pd.DataFrame, y: pd.Series) -> Tuple[pd.DataFrame, pd.Series]:
        """Aplica balanceamento."""
        
        logger.info("="*70)
        logger.info("BALANCEAMENTO INTELIGENTE")
        logger.info("="*70)
        
        original_counts = y.value_counts()
        logger.info(f"Distribuição original:")
        logger.info(f"  Classe 0 (Bom): {original_counts[0]:,} ({original_counts[0]/len(y)*100:.2f}%)")
        logger.info(f"  Classe 1 (Mau): {original_counts[1]:,} ({original_counts[1]/len(y)*100:.2f}%)")
        logger.info(f"  Imbalance Ratio: {original_counts[0]/original_counts[1]:.2f}x")
        
        if self.method == BalancingMethod.NONE or self.method == BalancingMethod.CLASS_WEIGHT:
            logger.info(f"✅ Método: {self.method.value} (sem reamostragem)")
            return X, y
        
        logger.info(f"Aplicando método: {self.method.value}")
        
        # Seleciona sampler
        if self.method == BalancingMethod.RANDOM_OVERSAMPLE:
            from imblearn.over_sampling import RandomOverSampler
            self.sampler = RandomOverSampler(
                sampling_strategy=self.sampling_strategy,
                random_state=self.random_state
            )
        
        elif self.method == BalancingMethod.RANDOM_UNDERSAMPLE:
            self.sampler = RandomUnderSampler(
                sampling_strategy=1.0,  # 1:1 ratio
                random_state=self.random_state
            )
        
        elif self.method == BalancingMethod.SMOTE:
            self.sampler = SMOTE(
                sampling_strategy=self.sampling_strategy,
                random_state=self.random_state,
                k_neighbors=5
            )
        
        elif self.method == BalancingMethod.ADASYN:
            self.sampler = ADASYN(
                sampling_strategy=self.sampling_strategy,
                random_state=self.random_state,
                n_neighbors=5
            )
        
        elif self.method == BalancingMethod.BORDERLINE_SMOTE:
            self.sampler = BorderlineSMOTE(
                sampling_strategy=self.sampling_strategy,
                random_state=self.random_state,
                k_neighbors=5
            )
        
        elif self.method == BalancingMethod.SMOTE_TOMEK:
            self.sampler = SMOTETomek(
                sampling_strategy=self.sampling_strategy,
                random_state=self.random_state
            )
        
        elif self.method == BalancingMethod.SMOTE_ENN:
            self.sampler = SMOTEENN(
                sampling_strategy=self.sampling_strategy,
                random_state=self.random_state
            )
        
        # Aplica reamostragem
        try:
            X_resampled, y_resampled = self.sampler.fit_resample(X, y)
            
            new_counts = y_resampled.value_counts()
            logger.info(f"\n✅ Balanceamento aplicado:")
            logger.info(f"  Classe 0: {new_counts[0]:,} ({new_counts[0]/len(y_resampled)*100:.2f}%)")
            logger.info(f"  Classe 1: {new_counts[1]:,} ({new_counts[1]/len(y_resampled)*100:.2f}%)")
            logger.info(f"  Novo Imbalance Ratio: {new_counts[0]/new_counts[1]:.2f}x")
            logger.info(f"  Total de amostras: {len(X):,} → {len(X_resampled):,}")
            logger.info("="*70 + "\n")
            
            return pd.DataFrame(X_resampled, columns=X.columns), pd.Series(y_resampled)
            
        except Exception as e:
            logger.warning(f"⚠️  Balanceamento falhou: {e}")
            logger.warning("    Continuando sem balanceamento...")
            return X, y

# ==============================================================================
# 5. FEATURE SELECTION AVANÇADA
# ==============================================================================

class AdvancedFeatureSelector:
    """Seleção de features com múltiplos métodos."""
    
    def __init__(self, config: MLConfig):
        self.config = config
        self.method = config.feature_selection_method
        self.selected_features_ = None
        self.feature_scores_ = {}
    
    def fit(self, X: pd.DataFrame, y: pd.Series) -> 'AdvancedFeatureSelector':
        """Seleciona features."""
        
        logger.info("="*70)
        logger.info("SELEÇÃO AVANÇADA DE FEATURES")
        logger.info("="*70)
        logger.info(f"Features iniciais: {X.shape[1]}")
        
        if self.method == FeatureSelectionMethod.NONE:
            self.selected_features_ = X.columns.tolist()
            logger.info("✅ Seleção desabilitada. Usando todas as features.")
            return self
        
        # Remove features com variância zero
        X_clean = self._remove_zero_variance(X)
        
        # Remove features altamente correlacionadas
        X_clean = self._remove_high_correlation(X_clean)
        
        # Aplica método específico
        if self.method == FeatureSelectionMethod.VARIANCE_THRESHOLD:
            selected = self._variance_threshold_selection(X_clean, y)
        
        elif self.method == FeatureSelectionMethod.CORRELATION:
            selected = X_clean.columns.tolist()
        
        elif self.method == FeatureSelectionMethod.MUTUAL_INFO:
            selected = self._mutual_info_selection(X_clean, y)
        
        elif self.method == FeatureSelectionMethod.RFE:
            selected = self._rfe_selection(X_clean, y)
        
        elif self.method == FeatureSelectionMethod.COMBINED:
            selected = self._combined_selection(X_clean, y)
        
        else:
            selected = X_clean.columns.tolist()
        
        self.selected_features_ = selected
        
        logger.info(f"✅ Seleção completa:")
        logger.info(f"    Features selecionadas: {len(self.selected_features_)}/{X.shape[1]}")
        logger.info(f"    Redução: {(1 - len(self.selected_features_)/X.shape[1])*100:.1f}%")
        logger.info("="*70 + "\n")
        
        return self
    
    def transform(self, X: pd.DataFrame) -> pd.DataFrame:
        """Transforma dataset."""
        if self.selected_features_ is None:
            raise ValueError("Must fit before transform")
        
        return X[self.selected_features_]
    
    def fit_transform(self, X: pd.DataFrame, y: pd.Series) -> pd.DataFrame:
        """Fit e transform."""
        return self.fit(X, y).transform(X)
    
    def _remove_zero_variance(self, X: pd.DataFrame) -> pd.DataFrame:
        """Remove features com variância zero."""
        numeric_cols = X.select_dtypes(include=[np.number]).columns
        
        zero_var_cols = []
        for col in numeric_cols:
            if X[col].std() == 0:
                zero_var_cols.append(col)
        
        if zero_var_cols:
            logger.info(f"    Removendo {len(zero_var_cols)} features com variância zero")
            X = X.drop(columns=zero_var_cols)
        
        return X
    
    def _remove_high_correlation(self, X: pd.DataFrame) -> pd.DataFrame:
        """Remove features altamente correlacionadas."""
        numeric_cols = X.select_dtypes(include=[np.number]).columns
        
        if len(numeric_cols) == 0:
            return X
        
        corr_matrix = X[numeric_cols].corr().abs()
        
        # Upper triangle
        upper = corr_matrix.where(np.triu(np.ones(corr_matrix.shape), k=1).astype(bool))
        
        # Find features with correlation > threshold
        to_drop = [column for column in upper.columns if any(upper[column] > self.config.correlation_threshold)]
        
        if to_drop:
            logger.info(f"    Removendo {len(to_drop)} features altamente correlacionadas (>{self.config.correlation_threshold})")
            X = X.drop(columns=to_drop)
        
        return X
    
    def _variance_threshold_selection(self, X: pd.DataFrame, y: pd.Series) -> List[str]:
        """Seleção por variância."""
        numeric_cols = X.select_dtypes(include=[np.number]).columns
        
        selector = VarianceThreshold(threshold=self.config.variance_threshold)
        selector.fit(X[numeric_cols])
        
        selected_numeric = numeric_cols[selector.get_support()].tolist()
        categorical_cols = X.select_dtypes(exclude=[np.number]).columns.tolist()
        
        return selected_numeric + categorical_cols
    
    def _mutual_info_selection(self, X: pd.DataFrame, y: pd.Series) -> List[str]:
        """Seleção por mutual information."""
        numeric_cols = X.select_dtypes(include=[np.number]).columns
        
        if len(numeric_cols) == 0:
            return X.columns.tolist()
        
        # Imputa NaNs temporariamente
        X_temp = X[numeric_cols].fillna(X[numeric_cols].median())
        
        mi_scores = mutual_info_classif(X_temp, y, random_state=self.config.random_state)
        
        # Seleciona top N
        n_select = self.config.n_features_to_select or int(len(numeric_cols) * 0.7)
        n_select = min(n_select, len(numeric_cols))
        
        top_indices = np.argsort(mi_scores)[-n_select:]
        selected_numeric = numeric_cols[top_indices].tolist()
        
        # Adiciona categóricas
        categorical_cols = X.select_dtypes(exclude=[np.number]).columns.tolist()
        
        return selected_numeric + categorical_cols
    
    def _rfe_selection(self, X: pd.DataFrame, y: pd.Series) -> List[str]:
        """Seleção por RFE."""
        numeric_cols = X.select_dtypes(include=[np.number]).columns
        
        if len(numeric_cols) == 0:
            return X.columns.tolist()
        
        # Imputa NaNs
        X_temp = X[numeric_cols].fillna(X[numeric_cols].median())
        
        # Modelo base
        estimator = lgb.LGBMClassifier(
            n_estimators=100,
            random_state=self.config.random_state,
            verbose=-1
        )
        
        n_select = self.config.n_features_to_select or int(len(numeric_cols) * 0.7)
        n_select = min(n_select, len(numeric_cols))
        
        rfe = RFE(estimator, n_features_to_select=n_select, step=5)
        rfe.fit(X_temp, y)
        
        selected_numeric = numeric_cols[rfe.support_].tolist()
        categorical_cols = X.select_dtypes(exclude=[np.number]).columns.tolist()
        
        logger.info(f"    RFE selecionou {len(selected_numeric)} features numéricas")
        
        return selected_numeric + categorical_cols
    
    def _combined_selection(self, X: pd.DataFrame, y: pd.Series) -> List[str]:
        """Combinação de múltiplos métodos (voting)."""
        numeric_cols = X.select_dtypes(include=[np.number]).columns
        
        if len(numeric_cols) == 0:
            return X.columns.tolist()
        
        X_temp = X[numeric_cols].fillna(X[numeric_cols].median())
        
        # Vota com 3 métodos
        votes = defaultdict(int)
        
        # 1. Mutual Info
        try:
            mi_scores = mutual_info_classif(X_temp, y, random_state=self.config.random_state)
            n_select = int(len(numeric_cols) * 0.7)
            top_mi = np.argsort(mi_scores)[-n_select:]
            for idx in top_mi:
                votes[numeric_cols[idx]] += 1
        except:
            pass
        
        # 2. F-score
        try:
            f_scores = f_classif(X_temp, y)[0]
            top_f = np.argsort(f_scores)[-n_select:]
            for idx in top_f:
                votes[numeric_cols[idx]] += 1
        except:
            pass
        
        # 3. Model-based (LightGBM)
        try:
            model = lgb.LGBMClassifier(n_estimators=100, random_state=self.config.random_state, verbose=-1)
            model.fit(X_temp, y)
            importances = model.feature_importances_
            top_model = np.argsort(importances)[-n_select:]
            for idx in top_model:
                votes[numeric_cols[idx]] += 1
        except:
            pass
        
        # Seleciona features com >= 2 votos
        selected_numeric = [feat for feat, count in votes.items() if count >= 2]
        
        # Se muito restritivo, pega top 70%
        if len(selected_numeric) < len(numeric_cols) * 0.5:
            selected_numeric = [feat for feat, count in sorted(votes.items(), key=lambda x: -x[1])][:n_select]
        
        categorical_cols = X.select_dtypes(exclude=[np.number]).columns.tolist()
        
        logger.info(f"    Seleção combinada: {len(selected_numeric)} features numéricas")
        
        return selected_numeric + categorical_cols

# ==============================================================================
# CONTINUAÇÃO - PARTES 6-10
# ==============================================================================

# ==============================================================================
# 6. OTIMIZAÇÃO MULTI-OBJETIVO AVANÇADA
# ==============================================================================

class MultiObjectiveOptimizer:
    """Otimização multi-objetivo (AUC, KS, Business Value)."""
    
    def __init__(self, config: EnterpriseConfig):
        self.config = config
        self.study = None
        self.best_trial = None
        self.pareto_front = []
    
    def optimize(self, 
                 X_train: pd.DataFrame, 
                 y_train: pd.Series,
                 X_val: pd.DataFrame, 
                 y_val: pd.Series,
                 preprocessor) -> Dict[str, Any]:
        """Otimiza hiperparâmetros com múltiplos objetivos."""
        
        logger.info("="*70)
        logger.info("OTIMIZAÇÃO MULTI-OBJETIVO BAYESIANA")
        logger.info("="*70)
        
        # Preprocessa dados
        X_train_processed = preprocessor.fit_transform(X_train, y_train)
        X_val_processed = preprocessor.transform(X_val)
        
        # Calcula scale_pos_weight
        class_counts = y_train.value_counts()
        scale_pos_weight = class_counts[0] / class_counts[1] if len(class_counts) == 2 else 1.0
        
        logger.info(f"Class imbalance: {scale_pos_weight:.2f}x")
        logger.info(f"Iniciando {self.config.ml_config.n_trials_optuna} trials...")
        
        # Define objetivos
        def objective(trial: optuna.Trial) -> Tuple[float, float, float]:
            """Retorna (AUC, KS, Business Value) para maximizar."""
            
            # Hiperparâmetros do XGBoost
            params = {
                'n_estimators': trial.suggest_int('n_estimators', 200, 1000, step=100),
                'max_depth': trial.suggest_int('max_depth', 3, 12),
                'learning_rate': trial.suggest_float('learning_rate', 0.01, 0.3, log=True),
                'subsample': trial.suggest_float('subsample', 0.6, 1.0),
                'colsample_bytree': trial.suggest_float('colsample_bytree', 0.6, 1.0),
                'colsample_bylevel': trial.suggest_float('colsample_bylevel', 0.6, 1.0),
                'min_child_weight': trial.suggest_int('min_child_weight', 1, 10),
                'gamma': trial.suggest_float('gamma', 0, 5),
                'reg_alpha': trial.suggest_float('reg_alpha', 0, 5),
                'reg_lambda': trial.suggest_float('reg_lambda', 0, 5),
                'scale_pos_weight': scale_pos_weight,
                'random_state': self.config.ml_config.random_state,
                'n_jobs': -1,
                'tree_method': 'hist',
                'eval_metric': 'auc'
            }
            
            try:
                # Treina modelo
                model = xgb.XGBClassifier(**params)
                
                if self.config.ml_config.enable_early_stopping:
                    model.fit(
                        X_train_processed, y_train,
                        eval_set=[(X_val_processed, y_val)],
                        early_stopping_rounds=self.config.ml_config.early_stopping_rounds,
                        verbose=False
                    )
                else:
                    model.fit(X_train_processed, y_train, verbose=False)
                
                # Predições
                y_prob = model.predict_proba(X_val_processed)[:, 1]
                y_pred = (y_prob >= 0.5).astype(int)
                
                # Objetivo 1: AUC
                auc = roc_auc_score(y_val, y_prob)
                
                # Objetivo 2: KS Statistic
                ks = ks_2samp(y_prob[y_val == 0], y_prob[y_val == 1]).statistic
                
                # Objetivo 3: Business Value
                tn, fp, fn, tp = confusion_matrix(y_val, y_pred).ravel()
                
                revenue = tn * self.config.business_metrics.revenue_per_good_client
                losses = fp * self.config.business_metrics.loss_per_bad_client
                costs = len(y_val) * self.config.business_metrics.operational_cost_per_analysis
                
                business_value = (revenue - losses - costs) / len(y_val)  # Normalized
                
                # Log progresso
                if trial.number % 10 == 0:
                    logger.info(f"Trial {trial.number}/{self.config.ml_config.n_trials_optuna}: "
                                f"AUC={auc:.4f}, KS={ks:.4f}, BV={business_value:.2f}")
                
                return auc, ks, business_value
                
            except Exception as e:
                logger.warning(f"Trial {trial.number} falhou: {e}")
                return 0.0, 0.0, -1000.0
        
        # Cria estudo multi-objetivo
        if self.config.ml_config.use_multi_objective:
            self.study = optuna.create_study(
                directions=['maximize', 'maximize', 'maximize'],
                sampler=optuna.samplers.NSGAIISampler(seed=self.config.ml_config.random_state)
            )
        else:
            # Single objective (AUC apenas)
            self.study = optuna.create_study(
                direction='maximize',
                sampler=optuna.samplers.TPESampler(seed=self.config.ml_config.random_state)
            )
            
            # Wrapper para single objective
            def single_objective(trial):
                auc, _, _ = objective(trial)
                return auc
            
            objective = single_objective
        
        # Otimiza
        self.study.optimize(
            objective,
            n_trials=self.config.ml_config.n_trials_optuna,
            show_progress_bar=False
        )
        
        # Seleciona melhor trial
        if self.config.ml_config.use_multi_objective:
            # Pareto front
            pareto_trials = [t for t in self.study.best_trials]
            
            # Seleciona trial com melhor AUC entre Pareto front
            best_trial = max(pareto_trials, key=lambda t: t.values[0])
            
            logger.info(f"\n✅ Otimização completa!")
            logger.info(f"    Pareto Front: {len(pareto_trials)} soluções")
            logger.info(f"    Melhor trial (por AUC):")
            logger.info(f"      AUC: {best_trial.values[0]:.4f}")
            logger.info(f"      KS: {best_trial.values[1]:.4f}")
            logger.info(f"      Business Value: {best_trial.values[2]:.2f}")
            
            self.pareto_front = pareto_trials
            
        else:
            best_trial = self.study.best_trial
            logger.info(f"\n✅ Otimização completa!")
            logger.info(f"    Melhor AUC: {best_trial.value:.4f}")
        
        self.best_trial = best_trial
        
        logger.info(f"    Melhores parâmetros:")
        for key, value in best_trial.params.items():
            logger.info(f"      {key}: {value}")
        
        logger.info("="*70 + "\n")
        
        return {
            'best_params': best_trial.params,
            'best_values': best_trial.values if self.config.ml_config.use_multi_objective else [best_trial.value],
            'pareto_front': self.pareto_front,
            'preprocessor': preprocessor
        }

# ==============================================================================
# 7. ENSEMBLE STACKING AVANÇADO
# ==============================================================================

class AdvancedEnsembleBuilder:
    """Constrói ensemble stacking com múltiplos modelos."""
    
    def __init__(self, config: EnterpriseConfig):
        self.config = config
        self.ensemble = None
        self.base_models = []
        self.meta_model = None
    
    def build_ensemble(self, best_params: Dict) -> Any:
        """Constrói ensemble completo."""
        
        logger.info("="*70)
        logger.info("CONSTRUÇÃO DE ENSEMBLE AVANÇADO")
        logger.info("="*70)
        
        # Calcula scale_pos_weight
        scale_pos_weight = best_params.get('scale_pos_weight', 1.0)
        random_state = self.config.ml_config.random_state
        
        # Base Models
        logger.info("Configurando modelos base...")
        
        # 1. XGBoost (otimizado)
        xgb_params = {k: v for k, v in best_params.items() if not k.startswith('lgb_') and not k.startswith('cb_')}
        xgb_params['random_state'] = random_state
        xgb_params['n_jobs'] = -1
        
        xgb_model = xgb.XGBClassifier(**xgb_params)
        self.base_models.append(('xgboost', xgb_model))
        logger.info("  ✓ XGBoost configurado")
        
        # 2. LightGBM
        lgb_params = {
            'n_estimators': best_params.get('n_estimators', 500),
            'max_depth': best_params.get('max_depth', 7),
            'learning_rate': best_params.get('learning_rate', 0.05),
            'num_leaves': min(2**best_params.get('max_depth', 7), 150),
            'subsample': best_params.get('subsample', 0.8),
            'colsample_bytree': best_params.get('colsample_bytree', 0.8),
            'min_child_samples': 20,
            'reg_alpha': best_params.get('reg_alpha', 0.1),
            'reg_lambda': best_params.get('reg_lambda', 0.1),
            'scale_pos_weight': scale_pos_weight,
            'random_state': random_state,
            'n_jobs': -1,
            'verbose': -1
        }
        
        lgb_model = lgb.LGBMClassifier(**lgb_params)
        self.base_models.append(('lightgbm', lgb_model))
        logger.info("  ✓ LightGBM configurado")
        
        # 3. CatBoost (se disponível)
        if CATBOOST_AVAILABLE:
            cb_params = {
                'iterations': best_params.get('n_estimators', 500),
                'depth': best_params.get('max_depth', 7),
                'learning_rate': best_params.get('learning_rate', 0.05),
                'l2_leaf_reg': best_params.get('reg_lambda', 1),
                'random_strength': 1,
                'bagging_temperature': 1,
                'scale_pos_weight': scale_pos_weight,
                'random_state': random_state,
                'verbose': False,
                'allow_writing_files': False
            }
            
            cb_model = cb.CatBoostClassifier(**cb_params)
            self.base_models.append(('catboost', cb_model))
            logger.info("  ✓ CatBoost configurado")
        
        # 4. Random Forest (diversidade)
        rf_model = RandomForestClassifier(
            n_estimators=300,
            max_depth=best_params.get('max_depth', 10),
            min_samples_split=20,
            min_samples_leaf=10,
            max_features='sqrt',
            class_weight='balanced',
            random_state=random_state,
            n_jobs=-1
        )
        self.base_models.append(('random_forest', rf_model))
        logger.info("  ✓ Random Forest configurado")
        
        # Meta Model (Logistic Regression)
        from sklearn.linear_model import LogisticRegression
        
        self.meta_model = LogisticRegression(
            C=1.0,
            class_weight='balanced',
            random_state=random_state,
            max_iter=1000,
            n_jobs=-1
        )
        
        logger.info("  ✓ Meta-modelo (Logistic Regression) configurado")
        
        # Cria Stacking Ensemble
        self.ensemble = StackingClassifier(
            estimators=self.base_models,
            final_estimator=self.meta_model,
            cv=5,
            stack_method='predict_proba',
            n_jobs=-1,
            verbose=0
        )
        
        logger.info(f"\n✅ Ensemble construído com {len(self.base_models)} modelos base")
        logger.info("="*70 + "\n")
        
        return self.ensemble
    
    def build_voting_ensemble(self, best_params: Dict) -> Any:
        """Constrói voting ensemble (alternativa mais rápida)."""
        
        logger.info("="*70)
        logger.info("CONSTRUÇÃO DE VOTING ENSEMBLE")
        logger.info("="*70)
        
        scale_pos_weight = best_params.get('scale_pos_weight', 1.0)
        random_state = self.config.ml_config.random_state
        
        # Modelos base
        xgb_params = {k: v for k, v in best_params.items()}
        xgb_params['random_state'] = random_state
        
        lgb_params = {
            'n_estimators': best_params.get('n_estimators', 500),
            'max_depth': best_params.get('max_depth', 7),
            'learning_rate': best_params.get('learning_rate', 0.05),
            'scale_pos_weight': scale_pos_weight,
            'random_state': random_state,
            'n_jobs': -1,
            'verbose': -1
        }
        
        estimators = [
            ('xgboost', xgb.XGBClassifier(**xgb_params)),
            ('lightgbm', lgb.LGBMClassifier(**lgb_params))
        ]
        
        if CATBOOST_AVAILABLE:
            cb_params = {
                'iterations': best_params.get('n_estimators', 500),
                'depth': best_params.get('max_depth', 7),
                'learning_rate': best_params.get('learning_rate', 0.05),
                'random_state': random_state,
                'verbose': False
            }
            estimators.append(('catboost', cb.CatBoostClassifier(**cb_params)))
        
        self.ensemble = VotingClassifier(
            estimators=estimators,
            voting='soft',
            n_jobs=-1
        )
        
        logger.info(f"✅ Voting ensemble com {len(estimators)} modelos")
        logger.info("="*70 + "\n")
        
        return self.ensemble

# ==============================================================================
# 8. CALIBRAÇÃO AVANÇADA
# ==============================================================================

class AdvancedCalibrator:
    """Calibração de probabilidades com múltiplos métodos."""
    
    def __init__(self, method: str = 'isotonic', cv: int = 5):
        self.method = method
        self.cv = cv
        self.calibrated_model = None
    
    def calibrate(self, model, X: pd.DataFrame, y: pd.Series) -> Any:
        """Calibra modelo."""
        
        logger.info("="*70)
        logger.info("CALIBRAÇÃO DE PROBABILIDADES")
        logger.info("="*70)
        logger.info(f"Método: {self.method}")
        
        if self.method in ['isotonic', 'sigmoid']:
            self.calibrated_model = CalibratedClassifierCV(
                model,
                method=self.method,
                cv=self.cv,
                n_jobs=-1
            )
            
            logger.info(f"Calibrando com CV={self.cv}...")
            self.calibrated_model.fit(X, y)
            
        elif self.method == 'beta':
            # Beta calibration (mais avançado)
            logger.info("Aplicando Beta Calibration...")
            self.calibrated_model = self._beta_calibration(model, X, y)
        
        else:
            logger.warning(f"Método '{self.method}' não reconhecido. Usando modelo original.")
            self.calibrated_model = model
        
        logger.info("✅ Calibração completa")
        logger.info("="*70 + "\n")
        
        return self.calibrated_model
    
    def _beta_calibration(self, model, X, y):
        """Beta calibration (Kull et al., 2017)."""
        # Simplified beta calibration
        # Na prática, usaríamos biblioteca específica
        return CalibratedClassifierCV(model, method='isotonic', cv=self.cv).fit(X, y)
    
    def plot_calibration_curve(self, 
                               model, 
                               X: pd.DataFrame, 
                               y: pd.Series,
                               save_path: Optional[Path] = None):
        """Plota curva de calibração."""
        
        y_prob = model.predict_proba(X)[:, 1]
        
        fraction_of_positives, mean_predicted_value = calibration_curve(
            y, y_prob, n_bins=10, strategy='quantile'
        )
        
        fig, ax = plt.subplots(figsize=(10, 8))
        
        # Perfect calibration
        ax.plot([0, 1], [0, 1], 'k--', label='Perfeitamente Calibrado')
        
        # Model calibration
        ax.plot(mean_predicted_value, fraction_of_positives, 'o-', 
                label=f'Modelo ({self.method})')
        
        ax.set_xlabel('Probabilidade Predita', fontsize=12)
        ax.set_ylabel('Fração de Positivos', fontsize=12)
        ax.set_title('Curva de Calibração', fontsize=14, fontweight='bold')
        ax.legend(loc='best')
        ax.grid(True, alpha=0.3)
        
        # Brier score
        brier = brier_score_loss(y, y_prob)
        ax.text(0.05, 0.95, f'Brier Score: {brier:.4f}', 
                transform=ax.transAxes, fontsize=11,
                verticalalignment='top',
                bbox=dict(boxstyle='round', facecolor='wheat', alpha=0.5))
        
        plt.tight_layout()
        
        if save_path:
            plt.savefig(save_path, dpi=300, bbox_inches='tight')
            logger.info(f"Curva de calibração salva: {save_path}")
        
        plt.show()

# ==============================================================================
# 9. MONITORAMENTO DE DRIFT COMPLETO
# ==============================================================================

class ComprehensiveDriftMonitor:
    """Monitor completo de data drift e concept drift."""
    
    def __init__(self, config: EnterpriseConfig):
        self.config = config
        self.baseline_distributions = {}
        self.drift_results = {}
    
    def set_baseline(self, X: pd.DataFrame, y: pd.Series, y_prob: np.ndarray):
        """Define baseline para comparação."""
        logger.info("Definindo baseline para monitoramento de drift...")
        
        # Distribuições de features
        for col in X.select_dtypes(include=[np.number]).columns:
            self.baseline_distributions[col] = {
                'values': X[col].values,
                'mean': X[col].mean(),
                'std': X[col].std(),
                'quantiles': X[col].quantile([0.25, 0.5, 0.75]).to_dict()
            }
        
        # Distribuição de predições
        self.baseline_distributions['predictions'] = y_prob
        
        # Distribuição de target
        self.baseline_distributions['target'] = y.values
        
        logger.info(f"✅ Baseline definido para {len(self.baseline_distributions)-2} features")
    
    def detect_drift(self, X: pd.DataFrame, y: pd.Series, y_prob: np.ndarray) -> Dict:
        """Detecta drift usando múltiplos métodos."""
        
        logger.info("="*70)
        logger.info("DETECÇÃO DE DRIFT MULTI-MÉTODO")
        logger.info("="*70)
        
        results = {
            'feature_drift': {},
            'prediction_drift': {},
            'concept_drift': {},
            'alerts': []
        }
        
        # 1. PSI para features numéricas
        logger.info("→ Calculando PSI (Population Stability Index)...")
        psi_results = self._calculate_psi_all_features(X)
        results['feature_drift']['psi'] = psi_results
        
        # 2. KS test para features
        logger.info("→ Executando KS test...")
        ks_results = self._calculate_ks_all_features(X)
        results['feature_drift']['ks'] = ks_results
        
        # 3. Chi-Square para categóricas
        logger.info("→ Executando Chi-Square test...")
        chi2_results = self._calculate_chi2_all_features(X)
        results['feature_drift']['chi2'] = chi2_results
        
        # 4. KL Divergence para predições
        logger.info("→ Calculando KL Divergence...")
        kl_div = self._calculate_kl_divergence(y_prob)
        results['prediction_drift']['kl_divergence'] = kl_div
        
        # 5. Jensen-Shannon Distance
        logger.info("→ Calculando Jensen-Shannon Distance...")
        js_dist = self._calculate_js_distance(y_prob)
        results['prediction_drift']['js_distance'] = js_dist
        
        # 6. Concept Drift (se target disponível)
        if y is not None:
            logger.info("→ Detectando Concept Drift...")
            concept_results = self._detect_concept_drift(y, y_prob)
            results['concept_drift'] = concept_results
        
        # Gera alertas
        results['alerts'] = self._generate_drift_alerts(results)
        
        self.drift_results = results
        
        # Sumário
        self._log_drift_summary(results)
        
        logger.info("="*70 + "\n")
        
        return results
    
    def _calculate_psi(self, baseline: np.ndarray, current: np.ndarray, bins: int = 10) -> float:
        """Calcula PSI entre duas distribuições."""
        
        # Remove NaNs
        baseline = baseline[~np.isnan(baseline)]
        current = current[~np.isnan(current)]
        
        if len(baseline) == 0 or len(current) == 0:
            return 0.0
        
        # Define bins baseado em baseline
        breakpoints = np.percentile(baseline, np.linspace(0, 100, bins + 1))
        breakpoints = np.unique(breakpoints)
        
        if len(breakpoints) <= 1:
            return 0.0
        
        # Conta elementos
        baseline_counts = np.histogram(baseline, bins=breakpoints)[0]
        current_counts = np.histogram(current, bins=breakpoints)[0]
        
        # Calcula percentuais
        baseline_pcts = baseline_counts / len(baseline)
        current_pcts = current_counts / len(current)
        
        # Evita log(0)
        baseline_pcts = np.clip(baseline_pcts, 1e-6, 1)
        current_pcts = np.clip(current_pcts, 1e-6, 1)
        
        # PSI
        psi = np.sum((current_pcts - baseline_pcts) * np.log(current_pcts / baseline_pcts))
        
        return psi
    
    def _calculate_psi_all_features(self, X: pd.DataFrame) -> Dict[str, float]:
        """Calcula PSI para todas as features."""
        psi_scores = {}
        
        for col in X.select_dtypes(include=[np.number]).columns:
            if col in self.baseline_distributions:
                baseline_values = self.baseline_distributions[col]['values']
                current_values = X[col].values
                
                psi = self._calculate_psi(baseline_values, current_values, 
                                          bins=self.config.ml_config.psi_bins)
                psi_scores[col] = psi
        
        return psi_scores
    
    def _calculate_ks_all_features(self, X: pd.DataFrame) -> Dict[str, Dict]:
        """Calcula KS test para todas as features."""
        ks_results = {}
        
        for col in X.select_dtypes(include=[np.number]).columns:
            if col in self.baseline_distributions:
                baseline_values = self.baseline_distributions[col]['values']
                current_values = X[col].dropna().values
                
                if len(current_values) > 0:
                    statistic, pvalue = ks_2samp(baseline_values, current_values)
                    
                    ks_results[col] = {
                        'statistic': statistic,
                        'pvalue': pvalue,
                        'significant': pvalue < 0.05
                    }
        
        return ks_results
    
    def _calculate_chi2_all_features(self, X: pd.DataFrame) -> Dict[str, Dict]:
        """Calcula Chi-Square para features categóricas."""
        chi2_results = {}
        
        categorical_cols = X.select_dtypes(include=['object', 'category']).columns
        
        for col in categorical_cols:
            if col in self.baseline_distributions:
                # Simplified - na prática precisa de mais tratamento
                chi2_results[col] = {'test': 'not_implemented'}
        
        return chi2_results
    
    def _calculate_kl_divergence(self, y_prob: np.ndarray) -> float:
        """Calcula KL Divergence entre distribuições de predições."""
        
        baseline_probs = self.baseline_distributions.get('predictions', None)
        
        if baseline_probs is None:
            return 0.0
        
        # Discretiza probabilidades
        bins = np.linspace(0, 1, 21)
        
        p = np.histogram(baseline_probs, bins=bins, density=True)[0]
        q = np.histogram(y_prob, bins=bins, density=True)[0]
        
        # Evita zeros
        p = np.clip(p, 1e-10, None)
        q = np.clip(q, 1e-10, None)
        
        # Normaliza
        p = p / p.sum()
        q = q / q.sum()
        
        # KL divergence
        kl_div = entropy(p, q)
        
        return kl_div
    
    def _calculate_js_distance(self, y_prob: np.ndarray) -> float:
        """Calcula Jensen-Shannon Distance."""
        
        baseline_probs = self.baseline_distributions.get('predictions', None)
        
        if baseline_probs is None:
            return 0.0
        
        # Discretiza
        bins = np.linspace(0, 1, 21)
        
        p = np.histogram(baseline_probs, bins=bins, density=True)[0]
        q = np.histogram(y_prob, bins=bins, density=True)[0]
        
        # Normaliza
        p = np.clip(p, 1e-10, None)
        q = np.clip(q, 1e-10, None)
        p = p / p.sum()
        q = q / q.sum()
        
        # JS distance
        js_dist = jensenshannon(p, q)
        
        return js_dist
    
    def _detect_concept_drift(self, y: pd.Series, y_prob: np.ndarray) -> Dict:
        """Detecta concept drift."""
        
        baseline_target = self.baseline_distributions.get('target', None)
        
        if baseline_target is None:
            return {}
        
        # Taxa de positivos
        baseline_pos_rate = np.mean(baseline_target)
        current_pos_rate = np.mean(y)
        
        # AUC mudou?
        baseline_auc = 0.75  # Placeholder - deveria armazenar baseline real
        current_auc = roc_auc_score(y, y_prob)
        
        auc_change = current_auc - baseline_auc
        
        return {
            'baseline_positive_rate': baseline_pos_rate,
            'current_positive_rate': current_pos_rate,
            'positive_rate_change': current_pos_rate - baseline_pos_rate,
            'baseline_auc': baseline_auc,
            'current_auc': current_auc,
            'auc_change': auc_change
        }
    
    def _generate_drift_alerts(self, results: Dict) -> List[Dict]:
        """Gera alertas baseado em thresholds."""
        alerts = []
        
        # PSI alerts
        for feature, psi in results['feature_drift'].get('psi', {}).items():
            if psi >= self.config.thresholds.max_psi_critical:
                alerts.append({
                    'level': 'CRITICAL',
                    'type': 'PSI',
                    'feature': feature,
                    'value': psi,
                    'message': f"PSI crítico para {feature}: {psi:.4f} (>= {self.config.thresholds.max_psi_critical})"
                })
            elif psi >= self.config.thresholds.max_psi_warning:
                alerts.append({
                    'level': 'WARNING',
                    'type': 'PSI',
                    'feature': feature,
                    'value': psi,
                    'message': f"PSI moderado para {feature}: {psi:.4f} (>= {self.config.thresholds.max_psi_warning})"
                })
        
        # KS alerts
        for feature, ks_result in results['feature_drift'].get('ks', {}).items():
            if ks_result.get('significant', False):
                alerts.append({
                    'level': 'WARNING',
                    'type': 'KS_TEST',
                    'feature': feature,
                    'value': ks_result['statistic'],
                    'pvalue': ks_result['pvalue'],
                    'message': f"Mudança significativa detectada em {feature} (KS p-value: {ks_result['pvalue']:.4f})"
                })
        
        return alerts
    
    def _log_drift_summary(self, results: Dict):
        """Loga sumário de drift."""
        logger.info("\n📊 SUMÁRIO DE DRIFT:")
        
        # PSI
        psi_scores = results['feature_drift'].get('psi', {})
        if psi_scores:
            critical_psi = [f for f, v in psi_scores.items() if v >= self.config.thresholds.max_psi_critical]
            warning_psi = [f for f, v in psi_scores.items() if self.config.thresholds.max_psi_warning <= v < self.config.thresholds.max_psi_critical]
            
            logger.info(f"  PSI: {len(critical_psi)} critical, {len(warning_psi)} warning")
            
            if critical_psi:
                logger.critical(f"  ❌ PSI CRÍTICO: {critical_psi}")
            if warning_psi:
                logger.warning(f"  ⚠️  PSI MODERADO: {warning_psi}")
        
        # Alertas
        alerts = results.get('alerts', [])
        if alerts:
            logger.warning(f"\n⚠️  {len(alerts)} ALERTAS GERADOS")
            for alert in alerts[:5]:  # Primeiros 5
                logger.warning(f"  - [{alert['level']}] {alert['message']}")

# ==============================================================================
# 10. MÉTRICAS ULTRA-COMPLETAS
# ==============================================================================

class UltraComprehensiveMetrics:
    """Calculadora ultra-completa de métricas."""
    
    @staticmethod
    def calculate_all_metrics(y_true: np.ndarray,
                            y_prob: np.ndarray,
                            y_pred: np.ndarray = None,
                            threshold: float = 0.5,
                            business_config: Optional[BusinessMetrics] = None) -> Dict[str, Any]:
        """Calcula TODAS as métricas possíveis."""
        
        if y_pred is None:
            y_pred = (y_prob >= threshold).astype(int)
        
        metrics = {}
        
        # === DISCRIMINAÇÃO ===
        metrics['auc'] = roc_auc_score(y_true, y_prob)
        metrics['gini'] = 2 * metrics['auc'] - 1
        
        # KS Statistic
        metrics['ks_statistic'] = ks_2samp(
            y_prob[y_true == 0],
            y_prob[y_true == 1]
        ).statistic
        
        # Average Precision (bom para dados desbalanceados)
        metrics['average_precision'] = average_precision_score(y_true, y_prob)
        
        # === CALIBRAÇÃO ===
        metrics['brier_score'] = brier_score_loss(y_true, y_prob)
        metrics['log_loss'] = log_loss(y_true, y_prob)
        
        # === CONFUSION MATRIX ===
        tn, fp, fn, tp = confusion_matrix(y_true, y_pred).ravel()
        
        metrics['true_negatives'] = int(tn)
        metrics['false_positives'] = int(fp)
        metrics['false_negatives'] = int(fn)
        metrics['true_positives'] = int(tp)
        
        # === MÉTRICAS DE CLASSIFICAÇÃO ===
        metrics['accuracy'] = (tp + tn) / (tp + tn + fp + fn)
        metrics['precision'] = tp / (tp + fp) if (tp + fp) > 0 else 0
        metrics['recall'] = tp / (tp + fn) if (tp + fn) > 0 else 0
        metrics['specificity'] = tn / (tn + fp) if (tn + fp) > 0 else 0
        metrics['f1_score'] = 2 * metrics['precision'] * metrics['recall'] / (metrics['precision'] + metrics['recall']) if (metrics['precision'] + metrics['recall']) > 0 else 0
        metrics['f2_score'] = 5 * metrics['precision'] * metrics['recall'] / (4 * metrics['precision'] + metrics['recall']) if (4 * metrics['precision'] + metrics['recall']) > 0 else 0
        
        # Balanced Accuracy
        metrics['balanced_accuracy'] = (metrics['recall'] + metrics['specificity']) / 2
        
        # Matthews Correlation Coefficient
        metrics['mcc'] = matthews_corrcoef(y_true, y_pred)
        
        # Cohen's Kappa
        metrics['cohen_kappa'] = cohen_kappa_score(y_true, y_pred)
        
        # === MÉTRICAS DE NEGÓCIO ===
        metrics['approval_rate'] = (y_pred == 0).mean()
        metrics['rejection_rate'] = (y_pred == 1).mean()
        metrics['bad_rate'] = y_true[y_pred == 0].mean() if sum(y_pred == 0) > 0 else 0
        metrics['capture_rate'] = tp / (tp + fn) if (tp + fn) > 0 else 0  # % de maus detectados
        
        # Valor de Negócio
        if business_config:
            revenue = tn * business_config.revenue_per_good_client
            losses = fp * business_config.loss_per_bad_client
            costs = len(y_true) * business_config.operational_cost_per_analysis
            
            metrics['total_revenue'] = revenue
            metrics['total_losses'] = losses
            metrics['operational_cost'] = costs
            metrics['net_profit'] = revenue - losses - costs
            metrics['profit_per_client'] = metrics['net_profit'] / len(y_true)
            metrics['roi'] = (metrics['net_profit'] / costs - 1) * 100 if costs > 0 else 0
        
        # === INFORMAÇÕES ADICIONAIS ===
        metrics['threshold'] = threshold
        metrics['n_samples'] = len(y_true)
        metrics['n_positives'] = int(y_true.sum())
        metrics['n_negatives'] = int(len(y_true) - y_true.sum())
        
        return metrics
    
    @staticmethod
    def print_metrics_table(metrics: Dict, title: str = "MÉTRICAS DE PERFORMANCE"):
        """Imprime tabela formatada de métricas."""
        
        logger.info("\n" + "="*70)
        logger.info(f"{title:^70}")
        logger.info("="*70)
        
        # Discriminação
        logger.info("\n📊 DISCRIMINAÇÃO:")
        logger.info(f"  AUC:                 {metrics.get('auc', 0):.4f}")
        logger.info(f"  Gini:                {metrics.get('gini', 0):.4f}")
        logger.info(f"  KS Statistic:        {metrics.get('ks_statistic', 0):.4f}")
        logger.info(f"  Average Precision:   {metrics.get('average_precision', 0):.4f}")
        
        # Calibração
        logger.info("\n🎯 CALIBRAÇÃO:")
        logger.info(f"  Brier Score:         {metrics.get('brier_score', 0):.4f}")
        logger.info(f"  Log Loss:            {metrics.get('log_loss', 0):.4f}")
        
        # Classificação
        logger.info("\n📈 CLASSIFICAÇÃO:")
        logger.info(f"  Accuracy:            {metrics.get('accuracy', 0):.4f}")
        logger.info(f"  Balanced Accuracy:   {metrics.get('balanced_accuracy', 0):.4f}")
        logger.info(f"  Precision:           {metrics.get('precision', 0):.4f}")
        logger.info(f"  Recall (Sensitivity): {metrics.get('recall', 0):.4f}")
        logger.info(f"  Specificity:         {metrics.get('specificity', 0):.4f}")
        logger.info(f"  F1-Score:            {metrics.get('f1_score', 0):.4f}")
        logger.info(f"  MCC:                 {metrics.get('mcc', 0):.4f}")
        
        # Negócio
        logger.info("\n💰 MÉTRICAS DE NEGÓCIO:")
        logger.info(f"  Approval Rate:       {metrics.get('approval_rate', 0):.2%}")
        logger.info(f"  Bad Rate:            {metrics.get('bad_rate', 0):.2%}")
        logger.info(f"  Capture Rate:        {metrics.get('capture_rate', 0):.2%}")
        
        if 'net_profit' in metrics:
            logger.info(f"  Net Profit:          R$ {metrics['net_profit']:,.2f}")
            logger.info(f"  Profit/Cliente:      R$ {metrics['profit_per_client']:,.2f}")
            logger.info(f"  ROI:                 {metrics['roi']:.2f}%")
        
        # Confusion Matrix
        logger.info("\n🔢 CONFUSION MATRIX:")
        logger.info(f"  True Negatives:      {metrics.get('true_negatives', 0):,}")
        logger.info(f"  False Positives:     {metrics.get('false_positives', 0):,}")
        logger.info(f"  False Negatives:     {metrics.get('false_negatives', 0):,}")
        logger.info(f"  True Positives:      {metrics.get('true_positives', 0):,}")
        
        logger.info("\n" + "="*70)

# ==============================================================================
# CONTINUAÇÃO FINAL - PARTES 11-15
# ==============================================================================

# ==============================================================================
# 11. PIPELINE PRINCIPAL ULTRA-COMPLETO
# ==============================================================================

class UltraEnterpriseCreditScoringPipeline:
    """Pipeline ultra-completo enterprise com TODAS as técnicas avançadas."""
    
    def __init__(self, config: Optional[EnterpriseConfig] = None):
        self.config = config or EnterpriseConfig()
        
        # Componentes
        self.feature_engineer = None
        self.balancer = None
        self.feature_selector = None
        self.preprocessor = None
        self.optimizer = None
        self.ensemble_builder = None
        self.calibrator = None
        self.drift_monitor = None
        
        # Modelos
        self.model = None
        self.calibrated_model = None
        
        # Resultados
        self.results = {
            'train_metrics': {},
            'validation_metrics': {},
            'test_metrics': {},
            'feature_importance': [],
            'shap_values': None,
            'drift_analysis': {},
            'optimization_history': None
        }
        
        # Metadata
        self.metadata = {
            'pipeline_version': '11.0.0',
            'created_at': datetime.now().isoformat(),
            'config': self.config
        }
    
    def run(self):
        """Executa pipeline ultra-completo."""
        
        start_time = datetime.now()
        
        logger.info("\n" + "="*70)
        logger.info("🚀 PIPELINE ULTRA-ENTERPRISE DE CREDIT SCORING v11.0")
        logger.info("="*70)
        logger.info(f"Início: {start_time.strftime('%Y-%m-%d %H:%M:%S')}")
        logger.info("="*70 + "\n")
        
        try:
            # ===== ETAPA 1: CARREGAMENTO =====
            logger.info("📁 ETAPA 1/12: Carregamento de Dados")
            logger.info("-" * 70)
            df = self._load_data()
            
            # ===== ETAPA 2: LIMPEZA =====
            logger.info("\n🧹 ETAPA 2/12: Limpeza de Dados")
            logger.info("-" * 70)
            df_clean = self._clean_data(df)
            
            # ===== ETAPA 3: VALIDAÇÃO =====
            logger.info("\n✅ ETAPA 3/12: Validação de Qualidade")
            logger.info("-" * 70)
            self._validate_data(df_clean)
            
            # ===== ETAPA 4: PREPARAÇÃO =====
            logger.info("\n🔧 ETAPA 4/12: Preparação de Dados")
            logger.info("-" * 70)
            X, y = self._prepare_data(df_clean)
            
            # ===== ETAPA 5: SPLIT =====
            logger.info("\n✂️  ETAPA 5/12: Split dos Dados")
            logger.info("-" * 70)
            splits = self._split_data(X, y)
            
            # ===== ETAPA 6: FEATURE ENGINEERING =====
            logger.info("\n⚙️  ETAPA 6/12: Feature Engineering Avançado")
            logger.info("-" * 70)
            splits = self._apply_feature_engineering(splits)
            
            # ===== ETAPA 7: BALANCEAMENTO =====
            logger.info("\n⚖️  ETAPA 7/12: Balanceamento Inteligente")
            logger.info("-" * 70)
            splits = self._apply_balancing(splits)
            
            # ===== ETAPA 8: FEATURE SELECTION =====
            logger.info("\n🎯 ETAPA 8/12: Seleção de Features")
            logger.info("-" * 70)
            splits = self._apply_feature_selection(splits)
            
            # ===== ETAPA 9: OTIMIZAÇÃO =====
            logger.info("\n🔬 ETAPA 9/12: Otimização de Hiperparâmetros")
            logger.info("-" * 70)
            optimization_results = self._optimize_hyperparameters(splits)
            
            # ===== ETAPA 10: TREINO ENSEMBLE =====
            logger.info("\n🏗️  ETAPA 10/12: Treino de Ensemble Avançado")
            logger.info("-" * 70)
            self._train_ensemble(splits, optimization_results)
            
            # ===== ETAPA 11: CALIBRAÇÃO =====
            logger.info("\n🎚️  ETAPA 11/12: Calibração de Probabilidades")
            logger.info("-" * 70)
            self._calibrate_model(splits)
            
            # ===== ETAPA 12: AVALIAÇÃO =====
            logger.info("\n📊 ETAPA 12/12: Avaliação Completa")
            logger.info("-" * 70)
            self._evaluate_all(splits)
            
            # ===== ANÁLISES ADICIONAIS =====
            logger.info("\n🔍 ANÁLISES ADICIONAIS")
            logger.info("-" * 70)
            
            # Explicabilidade
            if self.config.ml_config.compute_shap_values and SHAP_AVAILABLE:
                self._compute_shap_explanations(splits)
            
            # Monitoramento de Drift
            if self.config.ml_config.enable_drift_detection:
                self._analyze_drift(splits)
            
            # Feature Importance
            if self.config.ml_config.compute_feature_importance:
                self._compute_feature_importance(splits)
            
            # ===== SALVAMENTO =====
            logger.info("\n💾 SALVANDO ARTEFATOS")
            logger.info("-" * 70)
            self._save_all_artifacts()
            
            # ===== SUMÁRIO FINAL =====
            end_time = datetime.now()
            duration = (end_time - start_time).total_seconds()
            
            self._print_final_summary(duration)
            
            logger.info("\n" + "="*70)
            logger.info("✅ PIPELINE ULTRA-COMPLETO CONCLUÍDO COM SUCESSO!")
            logger.info(f"Duração total: {duration/60:.2f} minutos")
            logger.info("="*70 + "\n")
            
            return self.results
            
        except Exception as e:
            logger.error(f"\n❌ ERRO FATAL NO PIPELINE: {e}", exc_info=True)
            raise
    
    # ========== MÉTODOS AUXILIARES ==========
    
    def _load_data(self) -> pd.DataFrame:
        """Carrega dados."""
        logger.info(f"Carregando: {self.config.ml_config.data_path}")
        
        df = pd.read_excel(
            self.config.ml_config.data_path,
            sheet_name=self.config.ml_config.sheet_name
        )
        
        logger.info(f"✅ Carregado: {df.shape[0]:,} registros × {df.shape[1]} colunas")
        
        return df
    
    def _clean_data(self, df: pd.DataFrame) -> pd.DataFrame:
        """Limpa dados."""
        
        cols_to_remove = [
            'saldo_vencido', 'quantidade_parcelas_vencidas',
            'primeiro_vencimento_em_atraso', 'dias_em_atraso',
            'data_quitacao', 'taxa_parcelas_vencidas',
            'recebido', 'produtor', 'lancamento', 'pedido_id',
            'endereco_cidade', 'cluster', 'entrada',
            'status_pedido', 'score'
        ]
        
        cols_found = [col for col in cols_to_remove if col in df.columns]
        
        if cols_found:
            logger.info(f"🧹 Removendo {len(cols_found)} colunas desnecessárias")
            df = df.drop(columns=cols_found)
        
        logger.info(f"✅ Dados limpos: {df.shape[1]} colunas restantes")
        
        return df
    
    def _validate_data(self, df: pd.DataFrame):
        """Valida qualidade dos dados."""
        
        from dataclasses import dataclass, field
        
        @dataclass
        class SimpleValidator:
            config: EnterpriseConfig
            
            def validate_all(self, df, target_col):
                logger.info("Executando validações básicas...")
                
                # Verifica target
                if target_col not in df.columns:
                    raise ValueError(f"Target '{target_col}' não encontrada")
                
                # Verifica classes
                n_classes = df[target_col].nunique()
                if n_classes < 2:
                    raise ValueError("Target deve ter pelo menos 2 classes")
                
                # Missing values
                missing_pct = df.isnull().mean().max()
                if missing_pct > 0.9:
                    logger.warning(f"⚠️  Coluna com {missing_pct:.1%} de missing values")
                
                logger.info("✅ Validação básica: PASSOU")
                
                return True, {}
        
        validator = SimpleValidator(self.config)
        is_valid, _ = validator.validate_all(df, self.config.ml_config.target_variable)
        
        if not is_valid:
            raise ValueError("Validação falhou")
    
    def _prepare_data(self, df: pd.DataFrame) -> Tuple[pd.DataFrame, pd.Series]:
        """Prepara dados."""
        
        target_col = self.config.ml_config.target_variable
        
        # Binariza target
        y = df[target_col].apply(
            lambda x: 1 if str(x).lower() in ['inadimplente', '1', 'true', 'yes', 'bad'] else 0
        )
        
        X = df.drop(columns=[target_col])
        
        logger.info(f"✅ Preparado:")
        logger.info(f"    Features: {X.shape[1]}")
        logger.info(f"    Classe 0 (Bom): {(y==0).sum():,} ({(y==0).mean()*100:.2f}%)")
        logger.info(f"    Classe 1 (Mau): {(y==1).sum():,} ({(y==1).mean()*100:.2f}%)")
        logger.info(f"    Imbalance Ratio: {(y==0).sum()/(y==1).sum():.2f}x")
        
        return X, y
    
    def _split_data(self, X: pd.DataFrame, y: pd.Series) -> Dict:
        """Split temporal ou estratificado."""
        
        if self.config.ml_config.use_temporal_split and self.config.ml_config.date_column in X.columns:
            logger.info("Usando split temporal...")
            # Implementação simplificada
            pass
        
        # Split estratificado
        X_train, X_temp, y_train, y_temp = train_test_split(
            X, y,
            test_size=self.config.ml_config.test_size + self.config.ml_config.validation_size,
            stratify=y,
            random_state=self.config.ml_config.random_state
        )
        
        relative_val_size = self.config.ml_config.validation_size / (
            self.config.ml_config.test_size + self.config.ml_config.validation_size
        )
        
        X_val, X_test, y_val, y_test = train_test_split(
            X_temp, y_temp,
            test_size=1 - relative_val_size,
            stratify=y_temp,
            random_state=self.config.ml_config.random_state
        )
        
        logger.info(f"✅ Split concluído:")
        logger.info(f"    Train:       {len(X_train):>7,} ({len(X_train)/len(X)*100:>5.1f}%)")
        logger.info(f"    Validation: {len(X_val):>7,} ({len(X_val)/len(X)*100:>5.1f}%)")
        logger.info(f"    Test:        {len(X_test):>7,} ({len(X_test)/len(X)*100:>5.1f}%)")
        
        return {
            'train': (X_train, y_train),
            'validation': (X_val, y_val),
            'test': (X_test, y_test)
        }
    
    def _apply_feature_engineering(self, splits: Dict) -> Dict:
        """Aplica feature engineering."""
        
        X_train, y_train = splits['train']
        X_val, y_val = splits['validation']
        X_test, y_test = splits['test']
        
        # Inicializa feature engineer
        self.feature_engineer = UltraAdvancedFeatureEngineer(self.config.ml_config)
        
        # Fit no treino
        X_train_eng = self.feature_engineer.fit_transform(X_train, y_train)
        
        # Transform em val e test
        X_val_eng = self.feature_engineer.transform(X_val)
        X_test_eng = self.feature_engineer.transform(X_test)
        
        return {
            'train': (X_train_eng, y_train),
            'validation': (X_val_eng, y_val),
            'test': (X_test_eng, y_test)
        }
    
    def _apply_balancing(self, splits: Dict) -> Dict:
        """Aplica balanceamento."""
        
        X_train, y_train = splits['train']
        
        # Balanceia apenas treino
        self.balancer = IntelligentBalancer(
            method=self.config.ml_config.balancing_method,
            sampling_strategy=self.config.ml_config.sampling_strategy,
            random_state=self.config.ml_config.random_state
        )
        
        X_train_balanced, y_train_balanced = self.balancer.fit_resample(X_train, y_train)
        
        splits['train'] = (X_train_balanced, y_train_balanced)
        
        return splits
    
    def _apply_feature_selection(self, splits: Dict) -> Dict:
        """Aplica seleção de features."""
        
        X_train, y_train = splits['train']
        X_val, y_val = splits['validation']
        X_test, y_test = splits['test']
        
        # Feature selection
        self.feature_selector = AdvancedFeatureSelector(self.config.ml_config)
        
        X_train_selected = self.feature_selector.fit_transform(X_train, y_train)
        X_val_selected = self.feature_selector.transform(X_val)
        X_test_selected = self.feature_selector.transform(X_test)
        
        return {
            'train': (X_train_selected, y_train),
            'validation': (X_val_selected, y_val),
            'test': (X_test_selected, y_test)
        }
    
    def _optimize_hyperparameters(self, splits: Dict) -> Dict:
        """Otimiza hiperparâmetros."""
        
        X_train, y_train = splits['train']
        X_val, y_val = splits['validation']
        
        # Preprocessador
        self.preprocessor = self._build_preprocessor(X_train)
        
        if not self.config.ml_config.optimize_hyperparams:
            logger.info("⚠️  Otimização desabilitada. Usando parâmetros padrão.")
            
            class_counts = y_train.value_counts()
            scale_pos_weight = class_counts[0] / class_counts[1]
            
            return {
                'best_params': {
                    'n_estimators': 500,
                    'max_depth': 6,
                    'learning_rate': 0.05,
                    'subsample': 0.8,
                    'colsample_bytree': 0.8,
                    'scale_pos_weight': scale_pos_weight,
                    'gamma': 0,
                    'reg_alpha': 0.1,
                    'reg_lambda': 1,
                },
                'preprocessor': self.preprocessor
            }
        
        # Otimização multi-objetivo
        self.optimizer = MultiObjectiveOptimizer(self.config)
        
        optimization_results = self.optimizer.optimize(
            X_train, y_train,
            X_val, y_val,
            self.preprocessor
        )
        
        self.results['optimization_history'] = optimization_results
        
        return optimization_results
    
    def _train_ensemble(self, splits: Dict, optimization_results: Dict):
        """Treina ensemble."""
        
        X_train, y_train = splits['train']
        
        best_params = optimization_results['best_params']
        
        # Constrói ensemble
        self.ensemble_builder = AdvancedEnsembleBuilder(self.config)
        
        if self.config.ml_config.model_type == ModelType.ENSEMBLE_STACKING:
            logger.info("Construindo Stacking Ensemble...")
            self.model = self.ensemble_builder.build_ensemble(best_params)
        elif self.config.ml_config.model_type == ModelType.ENSEMBLE_VOTING:
            logger.info("Construindo Voting Ensemble...")
            self.model = self.ensemble_builder.build_voting_ensemble(best_params)
        else:
            logger.info(f"Construindo modelo único: {self.config.ml_config.model_type.value}")
            
            # Modelo único (XGBoost)
            best_params['random_state'] = self.config.ml_config.random_state
            best_params['n_jobs'] = -1
            
            self.model = xgb.XGBClassifier(**best_params)
        
        # Pipeline completo
        from sklearn.pipeline import Pipeline
        
        self.model_pipeline = Pipeline([
            ('preprocessor', self.preprocessor),
            ('model', self.model)
        ])
        
        # Treina
        logger.info("Treinando modelo final...")
        self.model_pipeline.fit(X_train, y_train)
        
        logger.info("✅ Treino completo")
    
    def _calibrate_model(self, splits: Dict):
        """Calibra probabilidades."""
        
        if not self.config.ml_config.calibrate_probabilities:
            logger.info("⚠️  Calibração desabilitada")
            self.calibrated_model = self.model_pipeline
            return
        
        X_train, y_train = splits['train']
        
        self.calibrator = AdvancedCalibrator(
            method=self.config.ml_config.calibration_method,
            cv=self.config.ml_config.calibration_cv
        )
        
        self.calibrated_model = self.calibrator.calibrate(
            self.model_pipeline, X_train, y_train
        )
    
    def _evaluate_all(self, splits: Dict):
        """Avalia em todos os splits."""
        
        logger.info("\n" + "="*70)
        logger.info("AVALIAÇÃO COMPLETA DE PERFORMANCE")
        logger.info("="*70)
        
        for split_name, (X, y) in splits.items():
            logger.info(f"\n{'='*70}")
            logger.info(f"{split_name.upper():^70}")
            logger.info(f"{'='*70}")
            
            # Predições
            y_prob = self.calibrated_model.predict_proba(X)[:, 1]
            y_pred = (y_prob >= 0.5).astype(int)
            
            # Calcula métricas
            metrics = UltraComprehensiveMetrics.calculate_all_metrics(
                y.values, y_prob, y_pred,
                business_config=self.config.business_metrics
            )
            
            # Armazena
            self.results[f'{split_name}_metrics'] = metrics
            
            # Imprime
            UltraComprehensiveMetrics.print_metrics_table(
                metrics, 
                title=f"MÉTRICAS - {split_name.upper()}"
            )
    
    def _compute_shap_explanations(self, splits: Dict):
        """Computa SHAP values."""
        
        logger.info("\n🔍 Computando explicações SHAP...")
        
        try:
            X_test, y_test = splits['test']
            
            # Usa amostra menor
            sample_size = min(1000, len(X_test))
            X_sample = X_test.sample(n=sample_size, random_state=42)
            
            # SHAP TreeExplainer
            explainer = shap.TreeExplainer(
                self.model_pipeline.named_steps['model']
            )
            
            # Preprocessa amostra
            X_sample_processed = self.model_pipeline.named_steps['preprocessor'].transform(X_sample)
            
            shap_values = explainer.shap_values(X_sample_processed)
            
            self.results['shap_values'] = {
                'values': shap_values,
                'base_value': explainer.expected_value,
                'data': X_sample_processed
            }
            
            logger.info(f"✅ SHAP values computados para {sample_size} amostras")
            
        except Exception as e:
            logger.warning(f"⚠️  Falha ao computar SHAP: {e}")
    
    def _analyze_drift(self, splits: Dict):
        """Analisa drift."""
        
        logger.info("\n📊 Analisando drift...")
        
        try:
            X_train, y_train = splits['train']
            X_test, y_test = splits['test']
            
            # Monitor
            self.drift_monitor = ComprehensiveDriftMonitor(self.config)
            
            # Define baseline (train)
            y_train_prob = self.calibrated_model.predict_proba(X_train)[:, 1]
            self.drift_monitor.set_baseline(X_train, y_train, y_train_prob)
            
            # Detecta drift (test)
            y_test_prob = self.calibrated_model.predict_proba(X_test)[:, 1]
            drift_results = self.drift_monitor.detect_drift(X_test, y_test, y_test_prob)
            
            self.results['drift_analysis'] = drift_results
            
            logger.info("✅ Análise de drift completa")
            
        except Exception as e:
            logger.warning(f"⚠️  Falha na análise de drift: {e}")
    
    def _compute_feature_importance(self, splits: Dict):
        """Computa importância de features."""
        
        logger.info("\n📊 Computando importância de features...")
        
        try:
            # Feature importance do modelo
            if hasattr(self.model_pipeline.named_steps['model'], 'feature_importances_'):
                importances = self.model_pipeline.named_steps['model'].feature_importances_
                
                # Nomes das features (após preprocessing)
                feature_names = self._get_feature_names_after_preprocessing(splits['train'][0])
                
                if len(feature_names) == len(importances):
                    importance_df = pd.DataFrame({
                        'feature': feature_names,
                        'importance': importances
                    }).sort_values('importance', ascending=False)
                    
                    self.results['feature_importance'] = importance_df.head(50).to_dict('records')
                    
                    logger.info(f"✅ Top 10 features mais importantes:")
                    for idx, row in importance_df.head(10).iterrows():
                        logger.info(f"    {row['feature']:<30} {row['importance']:.4f}")
            
        except Exception as e:
            logger.warning(f"⚠️  Falha ao computar feature importance: {e}")
    
    def _get_feature_names_after_preprocessing(self, X: pd.DataFrame) -> List[str]:
        """Obtém nomes das features após preprocessing."""
        try:
            preprocessor = self.model_pipeline.named_steps['preprocessor']
            
            # Tenta obter feature names
            if hasattr(preprocessor, 'get_feature_names_out'):
                return preprocessor.get_feature_names_out().tolist()
            else:
                return [f'feature_{i}' for i in range(X.shape[1])]
        except:
            return [f'feature_{i}' for i in range(X.shape[1])]
    
    def _build_preprocessor(self, X: pd.DataFrame) -> ColumnTransformer:
        """Constrói preprocessador."""
        
        numeric_cols = X.select_dtypes(include=[np.number]).columns.tolist()
        categorical_cols = X.select_dtypes(include=['object', 'category']).columns.tolist()
        
        # Transformers
        numeric_transformer = Pipeline([
            ('imputer', SimpleImputer(strategy='median')),
            ('scaler', RobustScaler())
        ])
        
        categorical_transformer = Pipeline([
            ('as_string', FunctionTransformer(lambda x: x.astype(str))), # <-- ETAPA ADICIONADA
            ('imputer', SimpleImputer(strategy='constant', fill_value='missing')),
            ('onehot', OneHotEncoder(handle_unknown='ignore', sparse_output=False, max_categories=50))
        ])
        
        return ColumnTransformer(
            transformers=[
                ('num', numeric_transformer, numeric_cols),
                ('cat', categorical_transformer, categorical_cols)
            ],
            remainder='drop'
        )
    
    def _save_all_artifacts(self):
        """Salva todos os artefatos."""
        
        output_dir = self.config.ml_config.output_dir
        timestamp = datetime.now().strftime("%Y%m%d_%H%M%S")
        
        # 1. Modelo principal
        model_path = output_dir / f'model_ultra_v{self.config.ml_config.model_version}_{timestamp}.joblib'
        
        artifact = {
            'model': self.calibrated_model,
            'feature_engineer': self.feature_engineer,
            'feature_selector': self.feature_selector,
            'preprocessor': self.preprocessor,
            'config': self.config,
            'results': self.results,
            'metadata': self.metadata
        }
        
        joblib.dump(artifact, model_path, compress=3)
        logger.info(f"✅ Modelo salvo: {model_path}")
        
        # 2. Metadados JSON
        metadata_path = output_dir / f'metadata_{timestamp}.json'
        
        metadata_dict = {
            'version': self.config.ml_config.model_version,
            'created_at': datetime.now().isoformat(),
            'train_metrics': self.results.get('train_metrics', {}),
            'validation_metrics': self.results.get('validation_metrics', {}),
            'test_metrics': self.results.get('test_metrics', {}),
            'config': {
                'balancing_method': self.config.ml_config.balancing_method.value,
                'feature_selection_method': self.config.ml_config.feature_selection_method.value,
                'model_type': self.config.ml_config.model_type.value,
                'n_trials_optuna': self.config.ml_config.n_trials_optuna
            }
        }
        
        with open(metadata_path, 'w') as f:
            json.dump(metadata_dict, f, indent=4, default=str)
        
        logger.info(f"✅ Metadados salvos: {metadata_path}")
        
        # 3. Feature Importance CSV
        if self.results.get('feature_importance'):
            importance_path = output_dir / f'feature_importance_{timestamp}.csv'
            pd.DataFrame(self.results['feature_importance']).to_csv(importance_path, index=False)
            logger.info(f"✅ Feature importance salvo: {importance_path}")
        
        # 4. Relatório completo
        self._generate_html_report(output_dir, timestamp)
    
    def _generate_html_report(self, output_dir: Path, timestamp: str):
        """Gera relatório HTML completo."""
        
        report_path = output_dir / f'report_{timestamp}.html'
        
        html_content = f"""
        <!DOCTYPE html>
        <html>
        <head>
            <title>Credit Scoring Report</title>
            <style>
                body {{ font-family: Arial, sans-serif; margin: 40px; }}
                h1 {{ color: #2c3e50; }}
                h2 {{ color: #34495e; border-bottom: 2px solid #3498db; padding-bottom: 10px; }}
                table {{ border-collapse: collapse; width: 100%; margin: 20px 0; }}
                th, td {{ border: 1px solid #ddd; padding: 12px; text-align: left; }}
                th {{ background-color: #3498db; color: white; }}
                .metric {{ background-color: #ecf0f1; padding: 10px; margin: 10px 0; border-radius: 5px; }}
                .good {{ color: #27ae60; font-weight: bold; }}
                .warning {{ color: #f39c12; font-weight: bold; }}
                .bad {{ color: #e74c3c; font-weight: bold; }}
            </style>
        </head>
        <body>
            <h1>🏆 Credit Scoring Model Report</h1>
            <p><strong>Generated:</strong> {datetime.now().strftime('%Y-%m-%d %H:%M:%S')}</p>
            <p><strong>Version:</strong> {self.config.ml_config.model_version}</p>
            
            <h2>📊 Performance Summary</h2>
            <table>
                <tr>
                    <th>Split</th>
                    <th>AUC</th>
                    <th>Gini</th>
                    <th>KS</th>
                    <th>Bad Rate</th>
                </tr>
        """
        
        for split_name in ['train', 'validation', 'test']:
            metrics = self.results.get(f'{split_name}_metrics', {})
            if metrics:
                html_content += f"""
                <tr>
                    <td><strong>{split_name.upper()}</strong></td>
                    <td>{metrics.get('auc', 0):.4f}</td>
                    <td>{metrics.get('gini', 0):.4f}</td>
                    <td>{metrics.get('ks_statistic', 0):.4f}</td>
                    <td>{metrics.get('bad_rate', 0):.2%}</td>
                </tr>
                """
        
        html_content += """
            </table>
            
            <h2>🔧 Configuration</h2>
            <div class="metric">
        """
        
        html_content += f"""
                <p><strong>Balancing Method:</strong> {self.config.ml_config.balancing_method.value}</p>
                <p><strong>Feature Selection:</strong> {self.config.ml_config.feature_selection_method.value}</p>
                <p><strong>Model Type:</strong> {self.config.ml_config.model_type.value}</p>
                <p><strong>Calibration:</strong> {self.config.ml_config.calibration_method if self.config.ml_config.calibrate_probabilities else 'Disabled'}</p>
            </div>
        </body>
        </html>
        """
        
        with open(report_path, 'w') as f:
            f.write(html_content)
        
        logger.info(f"✅ Relatório HTML gerado: {report_path}")
    
    def _print_final_summary(self, duration: float):
        """Imprime sumário final."""
        
        logger.info("\n" + "="*70)
        logger.info("🎯 SUMÁRIO EXECUTIVO FINAL")
        logger.info("="*70)
        
        # Performance
        logger.info("\n📊 PERFORMANCE:")
        for split_name in ['train', 'validation', 'test']:
            metrics = self.results.get(f'{split_name}_metrics', {})
            if metrics:
                logger.info(f"\n  {split_name.upper()}:")
                logger.info(f"    AUC:        {metrics.get('auc', 0):.4f}")
                logger.info(f"    Gini:       {metrics.get('gini', 0):.4f}")
                logger.info(f"    KS:         {metrics.get('ks_statistic', 0):.4f}")
                logger.info(f"    Bad Rate:   {metrics.get('bad_rate', 0):.2%}")
                
                if 'net_profit' in metrics:
                    logger.info(f"    Net Profit: R$ {metrics['net_profit']:,.2f}")
        
        # Configuração
        logger.info("\n⚙️  CONFIGURAÇÃO:")
        logger.info(f"  Balanceamento:       {self.config.ml_config.balancing_method.value}")
        logger.info(f"  Feature Selection:   {self.config.ml_config.feature_selection_method.value}")
        logger.info(f"  Modelo:              {self.config.ml_config.model_type.value}")
        logger.info(f"  Calibração:          {self.config.ml_config.calibration_method if self.config.ml_config.calibrate_probabilities else 'Desabilitada'}")
        
        # Features
        if self.feature_selector and self.feature_selector.selected_features_:
            logger.info(f"\n🎯 FEATURES:")
            logger.info(f"  Features selecionadas: {len(self.feature_selector.selected_features_)}")
        
        # Tempo
        logger.info(f"\n⏱️  TEMPO DE EXECUÇÃO:")
        logger.info(f"  Total: {duration/60:.2f} minutos ({duration:.1f} segundos)")
        
        logger.info("\n" + "="*70)

# ==============================================================================
# 12. SISTEMA DE PREDIÇÃO EM PRODUÇÃO
# ==============================================================================

class ProductionCreditScorer:
    """Sistema de scoring para produção."""
    
    def __init__(self, model_path: Path):
        """Carrega modelo treinado."""
        logger.info(f"Carregando modelo de: {model_path}")
        
        with open(model_path, 'rb') as f:
            self.artifact = joblib.load(f)
        
        self.model = self.artifact['model']
        self.feature_engineer = self.artifact.get('feature_engineer')
        self.feature_selector = self.artifact.get('feature_selector')
        self.preprocessor = self.artifact.get('preprocessor')
        self.config = self.artifact.get('config')
        
        logger.info("✅ Modelo carregado com sucesso")
    
    def score_single(self, client_data: Dict) -> Dict:
        """Realiza scoring de um único cliente."""
        
        # Converte para DataFrame
        df = pd.DataFrame([client_data])
        
        # Aplica transformações
        if self.feature_engineer:
            df = self.feature_engineer.transform(df)
        
        if self.feature_selector:
            df = self.feature_selector.transform(df)
        
        # Predição
        prob = self.model.predict_proba(df)[0, 1]
        pred = int(prob >= 0.5)
        
        # Score (0-1000)
        score = int((1 - prob) * 1000)
        
        # Faixa de risco
        if score >= 700:
            risk_band = 'A - Baixo Risco'
        elif score >= 500:
            risk_band = 'B - Risco Moderado'
        elif score >= 300:
            risk_band = 'C - Risco Alto'
        else:
            risk_band = 'D - Risco Muito Alto'
        
        return {
            'probability_default': float(prob),
            'prediction': 'Inadimplente' if pred == 1 else 'Bom Pagador',
            'score': score,
            'risk_band': risk_band,
            'timestamp': datetime.now().isoformat()
        }
    
    def score_batch(self, clients_df: pd.DataFrame) -> pd.DataFrame:
        """Realiza scoring em batch."""
        
        logger.info(f"Scoring de {len(clients_df)} clientes...")
        
        # Feature engineering
        if self.feature_engineer:
            clients_df = self.feature_engineer.transform(clients_df)
        
        # Feature selection
        if self.feature_selector:
            clients_df = self.feature_selector.transform(clients_df)
        
        # Predições
        probs = self.model.predict_proba(clients_df)[:, 1]
        preds = (probs >= 0.5).astype(int)
        scores = ((1 - probs) * 1000).astype(int)
        
        # Resultado
        result_df = pd.DataFrame({
            'probability_default': probs,
            'prediction': ['Inadimplente' if p == 1 else 'Bom Pagador' for p in preds],
            'score': scores,
            'risk_band': pd.cut(scores, bins=[0, 300, 500, 700, 1000], 
                              labels=['D', 'C', 'B', 'A'])
        })
        
        logger.info("✅ Scoring batch completo")
        
        return result_df

# ==============================================================================
# 13. API REST PARA PRODUÇÃO (FastAPI)
# ==============================================================================

class CreditScoringAPI:
    """
    API REST para servir o modelo.
    
    Uso:
        from fastapi import FastAPI
        app = FastAPI()
        api = CreditScoringAPI(model_path='model.joblib')
        api.setup_routes(app)
    """
    
    def __init__(self, model_path: Path):
        self.scorer = ProductionCreditScorer(model_path)
    
    def setup_routes(self, app):
        """Configura rotas da API."""
        
        @app.post("/score")
        async def score_client(client_data: dict):
            """Endpoint para scoring individual."""
            try:
                result = self.scorer.score_single(client_data)
                return {"status": "success", "result": result}
            except Exception as e:
                return {"status": "error", "message": str(e)}
        
        @app.post("/score/batch")
        async def score_batch(clients: list):
            """Endpoint para scoring em batch."""
            try:
                df = pd.DataFrame(clients)
                results = self.scorer.score_batch(df)
                return {
                    "status": "success",
                    "count": len(results),
                    "results": results.to_dict('records')
                }
            except Exception as e:
                return {"status": "error", "message": str(e)}
        
        @app.get("/health")
        async def health_check():
            """Health check."""
            return {"status": "healthy", "model": "loaded"}
        
        @app.get("/info")
        async def model_info():
            """Informações do modelo."""
            return {
                "version": self.scorer.config.ml_config.model_version,
                "created_at": self.scorer.artifact['metadata']['created_at']
            }

# ==============================================================================
# 14. TESTES AUTOMATIZADOS
# ==============================================================================

class ModelValidator:
    """Validador automatizado para modelo treinado."""
    
    def __init__(self, model_artifact: Dict):
        self.artifact = model_artifact
        self.model = model_artifact['model']
        self.test_results = []
    
    def run_all_tests(self) -> bool:
        """Executa todos os testes."""
        
        logger.info("\n" + "="*70)
        logger.info("🧪 EXECUTANDO TESTES AUTOMATIZADOS")
        logger.info("="*70)
        
        all_passed = True
        
        # Teste 1: Modelo carrega corretamente
        all_passed &= self._test_model_loads()
        
        # Teste 2: Predições são válidas
        all_passed &= self._test_predictions_valid()
        
        # Teste 3: Performance mínima
        all_passed &= self._test_minimum_performance()
        
        # Teste 4: Sem data leakage
        all_passed &= self._test_no_data_leakage()
        
        # Teste 5: Estabilidade numérica
        all_passed &= self._test_numerical_stability()
        
        # Sumário
        self._print_test_summary()
        
        return all_passed
    
    def _test_model_loads(self) -> bool:
        """Testa se modelo carrega."""
        try:
            assert self.model is not None
            logger.info("✅ Teste 1: Modelo carrega corretamente")
            self.test_results.append(("Modelo carrega", True))
            return True
        except:
            logger.error("❌ Teste 1: FALHOU - Modelo não carrega")
            self.test_results.append(("Modelo carrega", False))
            return False
    
    def _test_predictions_valid(self) -> bool:
        """Testa se predições são válidas."""
        try:
            # Cria amostra fake
            sample = pd.DataFrame({
                'idade': [30],
                'renda_declarada': [5000],
                'total_financiado': [10000],
                'quantidade_parcelas': [12]
            })
            
            probs = self.model.predict_proba(sample)
            
            assert probs.shape == (1, 2)
            assert np.all((probs >= 0) & (probs <= 1))
            assert np.allclose(probs.sum(axis=1), 1.0)
            
            logger.info("✅ Teste 2: Predições são válidas")
            self.test_results.append(("Predições válidas", True))
            return True
        except Exception as e:
            logger.error(f"❌ Teste 2: FALHOU - {e}")
            self.test_results.append(("Predições válidas", False))
            return False
    
    def _test_minimum_performance(self) -> bool:
        """Testa performance mínima."""
        try:
            test_metrics = self.artifact['results'].get('test_metrics', {})
            
            min_auc = 0.70
            auc = test_metrics.get('auc', 0)
            
            assert auc >= min_auc, f"AUC {auc:.4f} < {min_auc}"
            
            logger.info(f"✅ Teste 3: Performance aceitável (AUC={auc:.4f})")
            self.test_results.append(("Performance mínima", True))
            return True
        except Exception as e:
            logger.error(f"❌ Teste 3: FALHOU - {e}")
            self.test_results.append(("Performance mínima", False))
            return False
    
    def _test_no_data_leakage(self) -> bool:
        """Testa ausência de data leakage."""
        try:
            # Verifica se features proibidas não estão presentes
            feature_selector = self.artifact.get('feature_selector')
            
            if feature_selector and feature_selector.selected_features_:
                selected = feature_selector.selected_features_
                
                forbidden = [f for f in selected 
                           if any(bad in f.lower() for bad in FORBIDDEN_FEATURES)]
                
                assert len(forbidden) == 0, f"Features com leakage: {forbidden}"
            
            logger.info("✅ Teste 4: Sem data leakage detectado")
            self.test_results.append(("Sem data leakage", True))
            return True
        except Exception as e:
            logger.error(f"❌ Teste 4: FALHOU - {e}")
            self.test_results.append(("Sem data leakage", False))
            return False
    
    def _test_numerical_stability(self) -> bool:
        """Testa estabilidade numérica."""
        try:
            # Testa com valores extremos
            extreme_sample = pd.DataFrame({
                'idade': [18, 85, 40],
                'renda_declarada': [1000, 100000, 5000],
                'total_financiado': [1000, 500000, 10000],
                'quantidade_parcelas': [6, 72, 12]
            })
            
            probs = self.model.predict_proba(extreme_sample)
            
            assert not np.any(np.isnan(probs))
            assert not np.any(np.isinf(probs))
            
            logger.info("✅ Teste 5: Estabilidade numérica OK")
            self.test_results.append(("Estabilidade numérica", True))
            return True
        except Exception as e:
            logger.error(f"❌ Teste 5: FALHOU - {e}")
            self.test_results.append(("Estabilidade numérica", False))
            return False
    
    def _print_test_summary(self):
        """Imprime sumário dos testes."""
        logger.info("\n" + "="*70)
        logger.info("SUMÁRIO DE TESTES")
        logger.info("="*70)
        
        passed = sum(1 for _, result in self.test_results if result)
        total = len(self.test_results)
        
        for test_name, result in self.test_results:
            status = "✅ PASSOU" if result else "❌ FALHOU"
            logger.info(f"  {test_name:<30} {status}")
        
        logger.info(f"\nTotal: {passed}/{total} testes passaram")
        logger.info("="*70)

# ==============================================================================
# 15. PONTO DE ENTRADA PRINCIPAL
# ==============================================================================

def main():
    """Função principal - ponto de entrada do sistema."""
    
    try:
        # Configura pipeline
        config = EnterpriseConfig()
        
        # CONFIGURAÇÕES PERSONALIZÁVEIS
        # ==============================
        
        # Balanceamento
        config.ml_config.balancing_method = BalancingMethod.SMOTE
        config.ml_config.sampling_strategy = 0.3
        
        # Feature Selection
        config.ml_config.feature_selection_method = FeatureSelectionMethod.COMBINED
        
        # Otimização
        config.ml_config.optimize_hyperparams = True
        config.ml_config.n_trials_optuna = 30  # Ajuste conforme tempo disponível
        config.ml_config.use_multi_objective = True
        
        # Modelo
        config.ml_config.model_type = ModelType.ENSEMBLE_STACKING
        
        # Calibração
        config.ml_config.calibrate_probabilities = True
        config.ml_config.calibration_method = 'isotonic'
        
        # Features
        config.ml_config.create_advanced_features = True
        config.ml_config.create_polynomial_features = True
        config.ml_config.create_interaction_features = True
        
        # Explicabilidade
        config.ml_config.compute_shap_values = False  # Desabilite se demorar muito
        config.ml_config.compute_feature_importance = True
        
        # Monitoramento
        config.ml_config.enable_drift_detection = True
        
        # ==============================
        
        # Executa pipeline
        pipeline = UltraEnterpriseCreditScoringPipeline(config)
        results = pipeline.run()
        
        # Testes automatizados
        logger.info("\n" + "="*70)
        logger.info("EXECUTANDO VALIDAÇÃO FINAL")
        logger.info("="*70)
        
        # Carrega modelo recém-treinado
        model_files = list(config.ml_config.output_dir.glob('model_ultra_*.joblib'))
        if model_files:
            latest_model = max(model_files, key=lambda p: p.stat().st_mtime)
            
            with open(latest_model, 'rb') as f:
                artifact = joblib.load(f)
            
            validator = ModelValidator(artifact)
            all_tests_passed = validator.run_all_tests()
            
            if all_tests_passed:
                logger.info("\n✅ TODOS OS TESTES PASSARAM - MODELO PRONTO PARA PRODUÇÃO")
            else:
                logger.warning("\n⚠️  ALGUNS TESTES FALHARAM - REVISAR ANTES DE PRODUÇÃO")
        
        logger.info("\n" + "="*70)
        logger.info("🎉 PROCESSO COMPLETO FINALIZADO COM SUCESSO!")
        logger.info("="*70)
        
        return results
        
    except FileNotFoundError as e:
        logger.error(f"\n❌ Arquivo não encontrado: {e}")
        logger.error("    Verifique MLConfig.data_path")
        sys.exit(1)
    
    except Exception as e:
        logger.error(f"\n❌ ERRO FATAL: {e}", exc_info=True)
        sys.exit(1)

# ==============================================================================
# EXEMPLO DE USO DO MODELO EM PRODUÇÃO
# ==============================================================================

def exemplo_uso_producao():
    """Exemplo de como usar o modelo treinado em produção."""
    
    # 1. Carrega modelo
    model_path = Path('./models_ultra/model_ultra_v11.0.0_latest.joblib')
    scorer = ProductionCreditScorer(model_path)
    
    # 2. Scoring individual
    client_data = {
        'nascimento': '1990-05-15',
        'profissao': 'Engenheiro',
        'renda_declarada': 8000,
        'total_financiado': 50000,
        'quantidade_parcelas': 36
    }
    
    result = scorer.score_single(client_data)
    print(f"\n🎯 Resultado do Scoring:")
    print(f"    Score: {result['score']}")
    print(f"    Faixa de Risco: {result['risk_band']}")
    print(f"    Probabilidade de Inadimplência: {result['probability_default']:.2%}")
    print(f"    Decisão: {result['prediction']}")
    
    # 3. Scoring em batch
    clients_df = pd.DataFrame([
        {'nascimento': '1985-03-20', 'renda_declarada': 5000, 'total_financiado': 30000, 'quantidade_parcelas': 24},
        {'nascimento': '1995-08-10', 'renda_declarada': 3000, 'total_financiado': 15000, 'quantidade_parcelas': 12},
        {'nascimento': '1978-11-30', 'renda_declarada': 12000, 'total_financiado': 80000, 'quantidade_parcelas': 48},
    ])
    
    results_df = scorer.score_batch(clients_df)
    print("\n📊 Resultados Batch:")
    print(results_df)

# ==============================================================================
# EXECUÇÃO
# ==============================================================================

if __name__ == '__main__':
    # Executa pipeline completo
    main()
    
    # Exemplo de uso em produção (descomentar se necessário)
    # exemplo_uso_producao()

# ==============================================================================
# FIM DO CÓDIGO ULTRA-COMPLETO v11.0
# ==============================================================================
